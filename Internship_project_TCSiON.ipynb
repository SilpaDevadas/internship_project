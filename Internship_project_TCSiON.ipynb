{
 "cells": [
  {
   "cell_type": "markdown",
   "id": "30597e6b",
   "metadata": {},
   "source": [
    "# Import libraries"
   ]
  },
  {
   "cell_type": "code",
   "execution_count": 1,
   "id": "53efca34",
   "metadata": {},
   "outputs": [],
   "source": [
    "import numpy as np\n",
    "import pandas as pd\n",
    "import matplotlib.pyplot as plt\n",
    "import seaborn as sns\n",
    "import warnings \n",
    "warnings.filterwarnings(\"ignore\")"
   ]
  },
  {
   "cell_type": "markdown",
   "id": "71000e6d",
   "metadata": {},
   "source": [
    "# Load Data"
   ]
  },
  {
   "cell_type": "code",
   "execution_count": 2,
   "id": "74f7ef24",
   "metadata": {},
   "outputs": [
    {
     "data": {
      "text/html": [
       "<div>\n",
       "<style scoped>\n",
       "    .dataframe tbody tr th:only-of-type {\n",
       "        vertical-align: middle;\n",
       "    }\n",
       "\n",
       "    .dataframe tbody tr th {\n",
       "        vertical-align: top;\n",
       "    }\n",
       "\n",
       "    .dataframe thead th {\n",
       "        text-align: right;\n",
       "    }\n",
       "</style>\n",
       "<table border=\"1\" class=\"dataframe\">\n",
       "  <thead>\n",
       "    <tr style=\"text-align: right;\">\n",
       "      <th></th>\n",
       "      <th>Age</th>\n",
       "      <th>Condition</th>\n",
       "      <th>Date</th>\n",
       "      <th>Drug</th>\n",
       "      <th>DrugId</th>\n",
       "      <th>EaseofUse</th>\n",
       "      <th>Effectiveness</th>\n",
       "      <th>Reviews</th>\n",
       "      <th>Satisfaction</th>\n",
       "      <th>Sex</th>\n",
       "      <th>Sides</th>\n",
       "      <th>UsefulCount</th>\n",
       "    </tr>\n",
       "  </thead>\n",
       "  <tbody>\n",
       "    <tr>\n",
       "      <th>0</th>\n",
       "      <td>75 or over</td>\n",
       "      <td>Stuffy Nose</td>\n",
       "      <td>9/21/2014</td>\n",
       "      <td>25dph-7.5peh</td>\n",
       "      <td>146724</td>\n",
       "      <td>5</td>\n",
       "      <td>5</td>\n",
       "      <td>I'm a retired physician and of all the meds I ...</td>\n",
       "      <td>5</td>\n",
       "      <td>Male</td>\n",
       "      <td>Drowsiness,  dizziness ,  dry mouth /nose/thro...</td>\n",
       "      <td>0</td>\n",
       "    </tr>\n",
       "    <tr>\n",
       "      <th>1</th>\n",
       "      <td>25-34</td>\n",
       "      <td>Cold Symptoms</td>\n",
       "      <td>1/13/2011</td>\n",
       "      <td>25dph-7.5peh</td>\n",
       "      <td>146724</td>\n",
       "      <td>5</td>\n",
       "      <td>5</td>\n",
       "      <td>cleared me right up even with my throat hurtin...</td>\n",
       "      <td>5</td>\n",
       "      <td>Female</td>\n",
       "      <td>Drowsiness,  dizziness ,  dry mouth /nose/thro...</td>\n",
       "      <td>1</td>\n",
       "    </tr>\n",
       "    <tr>\n",
       "      <th>2</th>\n",
       "      <td>65-74</td>\n",
       "      <td>Other</td>\n",
       "      <td>7/16/2012</td>\n",
       "      <td>warfarin (bulk) 100 % powder</td>\n",
       "      <td>144731</td>\n",
       "      <td>2</td>\n",
       "      <td>3</td>\n",
       "      <td>why did my PTINR go from a normal of 2.5 to ov...</td>\n",
       "      <td>3</td>\n",
       "      <td>Female</td>\n",
       "      <td></td>\n",
       "      <td>0</td>\n",
       "    </tr>\n",
       "    <tr>\n",
       "      <th>3</th>\n",
       "      <td>75 or over</td>\n",
       "      <td>Other</td>\n",
       "      <td>9/23/2010</td>\n",
       "      <td>warfarin (bulk) 100 % powder</td>\n",
       "      <td>144731</td>\n",
       "      <td>2</td>\n",
       "      <td>2</td>\n",
       "      <td>FALLING AND DON'T REALISE IT</td>\n",
       "      <td>1</td>\n",
       "      <td>Female</td>\n",
       "      <td></td>\n",
       "      <td>0</td>\n",
       "    </tr>\n",
       "    <tr>\n",
       "      <th>4</th>\n",
       "      <td>35-44</td>\n",
       "      <td>Other</td>\n",
       "      <td>1/6/2009</td>\n",
       "      <td>warfarin (bulk) 100 % powder</td>\n",
       "      <td>144731</td>\n",
       "      <td>1</td>\n",
       "      <td>1</td>\n",
       "      <td>My grandfather was prescribed this medication ...</td>\n",
       "      <td>1</td>\n",
       "      <td>Male</td>\n",
       "      <td></td>\n",
       "      <td>1</td>\n",
       "    </tr>\n",
       "  </tbody>\n",
       "</table>\n",
       "</div>"
      ],
      "text/plain": [
       "          Age      Condition       Date                          Drug  DrugId  \\\n",
       "0  75 or over    Stuffy Nose  9/21/2014                  25dph-7.5peh  146724   \n",
       "1       25-34  Cold Symptoms  1/13/2011                  25dph-7.5peh  146724   \n",
       "2       65-74          Other  7/16/2012  warfarin (bulk) 100 % powder  144731   \n",
       "3  75 or over          Other  9/23/2010  warfarin (bulk) 100 % powder  144731   \n",
       "4       35-44          Other   1/6/2009  warfarin (bulk) 100 % powder  144731   \n",
       "\n",
       "   EaseofUse  Effectiveness  \\\n",
       "0          5              5   \n",
       "1          5              5   \n",
       "2          2              3   \n",
       "3          2              2   \n",
       "4          1              1   \n",
       "\n",
       "                                             Reviews  Satisfaction     Sex  \\\n",
       "0  I'm a retired physician and of all the meds I ...             5    Male   \n",
       "1  cleared me right up even with my throat hurtin...             5  Female   \n",
       "2  why did my PTINR go from a normal of 2.5 to ov...             3  Female   \n",
       "3                       FALLING AND DON'T REALISE IT             1  Female   \n",
       "4  My grandfather was prescribed this medication ...             1    Male   \n",
       "\n",
       "                                               Sides  UsefulCount  \n",
       "0  Drowsiness,  dizziness ,  dry mouth /nose/thro...            0  \n",
       "1  Drowsiness,  dizziness ,  dry mouth /nose/thro...            1  \n",
       "2                                                               0  \n",
       "3                                                               0  \n",
       "4                                                               1  "
      ]
     },
     "execution_count": 2,
     "metadata": {},
     "output_type": "execute_result"
    }
   ],
   "source": [
    "# Reading the data and understanding the data\n",
    "df=pd.read_csv('webmd.csv')\n",
    "df.head()"
   ]
  },
  {
   "cell_type": "markdown",
   "id": "d122eb70",
   "metadata": {},
   "source": [
    "By looking at the head of the data we see that there are 12 features. 'Sides' or effectiveness can serve as our target variable. But it need some further processing as useful as a target variable."
   ]
  },
  {
   "cell_type": "code",
   "execution_count": 3,
   "id": "28354719",
   "metadata": {},
   "outputs": [
    {
     "data": {
      "text/plain": [
       "(362806, 12)"
      ]
     },
     "execution_count": 3,
     "metadata": {},
     "output_type": "execute_result"
    }
   ],
   "source": [
    " #check the shape of the given dataset\n",
    "df.shape"
   ]
  },
  {
   "cell_type": "markdown",
   "id": "1e4b4129",
   "metadata": {},
   "source": [
    "Dataset has 362806 rows and 12 columns"
   ]
  },
  {
   "cell_type": "code",
   "execution_count": 4,
   "id": "2cb37d00",
   "metadata": {},
   "outputs": [
    {
     "data": {
      "text/plain": [
       "Index(['Age', 'Condition', 'Date', 'Drug', 'DrugId', 'EaseofUse',\n",
       "       'Effectiveness', 'Reviews', 'Satisfaction', 'Sex', 'Sides',\n",
       "       'UsefulCount'],\n",
       "      dtype='object')"
      ]
     },
     "execution_count": 4,
     "metadata": {},
     "output_type": "execute_result"
    }
   ],
   "source": [
    "#check the columns\n",
    "df.columns"
   ]
  },
  {
   "cell_type": "code",
   "execution_count": 5,
   "id": "5fc4cb7c",
   "metadata": {},
   "outputs": [
    {
     "name": "stdout",
     "output_type": "stream",
     "text": [
      "<class 'pandas.core.frame.DataFrame'>\n",
      "RangeIndex: 362806 entries, 0 to 362805\n",
      "Data columns (total 12 columns):\n",
      " #   Column         Non-Null Count   Dtype \n",
      "---  ------         --------------   ----- \n",
      " 0   Age            362806 non-null  object\n",
      " 1   Condition      362806 non-null  object\n",
      " 2   Date           362806 non-null  object\n",
      " 3   Drug           362806 non-null  object\n",
      " 4   DrugId         362806 non-null  int64 \n",
      " 5   EaseofUse      362806 non-null  int64 \n",
      " 6   Effectiveness  362806 non-null  int64 \n",
      " 7   Reviews        362769 non-null  object\n",
      " 8   Satisfaction   362806 non-null  int64 \n",
      " 9   Sex            362806 non-null  object\n",
      " 10  Sides          362806 non-null  object\n",
      " 11  UsefulCount    362806 non-null  int64 \n",
      "dtypes: int64(5), object(7)\n",
      "memory usage: 33.2+ MB\n"
     ]
    }
   ],
   "source": [
    "#Check information of the dataset\n",
    "df.info()"
   ]
  },
  {
   "cell_type": "code",
   "execution_count": 6,
   "id": "1a849168",
   "metadata": {},
   "outputs": [
    {
     "data": {
      "text/html": [
       "<div>\n",
       "<style scoped>\n",
       "    .dataframe tbody tr th:only-of-type {\n",
       "        vertical-align: middle;\n",
       "    }\n",
       "\n",
       "    .dataframe tbody tr th {\n",
       "        vertical-align: top;\n",
       "    }\n",
       "\n",
       "    .dataframe thead th {\n",
       "        text-align: right;\n",
       "    }\n",
       "</style>\n",
       "<table border=\"1\" class=\"dataframe\">\n",
       "  <thead>\n",
       "    <tr style=\"text-align: right;\">\n",
       "      <th></th>\n",
       "      <th>Age</th>\n",
       "      <th>Condition</th>\n",
       "      <th>Date</th>\n",
       "      <th>Drug</th>\n",
       "      <th>DrugId</th>\n",
       "      <th>EaseofUse</th>\n",
       "      <th>Effectiveness</th>\n",
       "      <th>Reviews</th>\n",
       "      <th>Satisfaction</th>\n",
       "      <th>Sex</th>\n",
       "      <th>Sides</th>\n",
       "      <th>UsefulCount</th>\n",
       "    </tr>\n",
       "  </thead>\n",
       "  <tbody>\n",
       "    <tr>\n",
       "      <th>count</th>\n",
       "      <td>362806</td>\n",
       "      <td>362806</td>\n",
       "      <td>362806</td>\n",
       "      <td>362806</td>\n",
       "      <td>362806.000000</td>\n",
       "      <td>362806.000000</td>\n",
       "      <td>362806.000000</td>\n",
       "      <td>362769</td>\n",
       "      <td>362806.000000</td>\n",
       "      <td>362806</td>\n",
       "      <td>362806</td>\n",
       "      <td>362806.000000</td>\n",
       "    </tr>\n",
       "    <tr>\n",
       "      <th>unique</th>\n",
       "      <td>12</td>\n",
       "      <td>1806</td>\n",
       "      <td>4524</td>\n",
       "      <td>7093</td>\n",
       "      <td>NaN</td>\n",
       "      <td>NaN</td>\n",
       "      <td>NaN</td>\n",
       "      <td>250167</td>\n",
       "      <td>NaN</td>\n",
       "      <td>3</td>\n",
       "      <td>1651</td>\n",
       "      <td>NaN</td>\n",
       "    </tr>\n",
       "    <tr>\n",
       "      <th>top</th>\n",
       "      <td>45-54</td>\n",
       "      <td>Other</td>\n",
       "      <td>10/29/2007</td>\n",
       "      <td>cymbalta</td>\n",
       "      <td>NaN</td>\n",
       "      <td>NaN</td>\n",
       "      <td>NaN</td>\n",
       "      <td></td>\n",
       "      <td>NaN</td>\n",
       "      <td>Female</td>\n",
       "      <td></td>\n",
       "      <td>NaN</td>\n",
       "    </tr>\n",
       "    <tr>\n",
       "      <th>freq</th>\n",
       "      <td>80043</td>\n",
       "      <td>49765</td>\n",
       "      <td>404</td>\n",
       "      <td>4648</td>\n",
       "      <td>NaN</td>\n",
       "      <td>NaN</td>\n",
       "      <td>NaN</td>\n",
       "      <td>41824</td>\n",
       "      <td>NaN</td>\n",
       "      <td>238226</td>\n",
       "      <td>17460</td>\n",
       "      <td>NaN</td>\n",
       "    </tr>\n",
       "    <tr>\n",
       "      <th>mean</th>\n",
       "      <td>NaN</td>\n",
       "      <td>NaN</td>\n",
       "      <td>NaN</td>\n",
       "      <td>NaN</td>\n",
       "      <td>36879.370774</td>\n",
       "      <td>4.019829</td>\n",
       "      <td>3.532061</td>\n",
       "      <td>NaN</td>\n",
       "      <td>3.135408</td>\n",
       "      <td>NaN</td>\n",
       "      <td>NaN</td>\n",
       "      <td>6.744916</td>\n",
       "    </tr>\n",
       "    <tr>\n",
       "      <th>std</th>\n",
       "      <td>NaN</td>\n",
       "      <td>NaN</td>\n",
       "      <td>NaN</td>\n",
       "      <td>NaN</td>\n",
       "      <td>52624.412971</td>\n",
       "      <td>1.317711</td>\n",
       "      <td>1.455961</td>\n",
       "      <td>NaN</td>\n",
       "      <td>1.611106</td>\n",
       "      <td>NaN</td>\n",
       "      <td>NaN</td>\n",
       "      <td>9.324240</td>\n",
       "    </tr>\n",
       "    <tr>\n",
       "      <th>min</th>\n",
       "      <td>NaN</td>\n",
       "      <td>NaN</td>\n",
       "      <td>NaN</td>\n",
       "      <td>NaN</td>\n",
       "      <td>1.000000</td>\n",
       "      <td>1.000000</td>\n",
       "      <td>1.000000</td>\n",
       "      <td>NaN</td>\n",
       "      <td>1.000000</td>\n",
       "      <td>NaN</td>\n",
       "      <td>NaN</td>\n",
       "      <td>0.000000</td>\n",
       "    </tr>\n",
       "    <tr>\n",
       "      <th>25%</th>\n",
       "      <td>NaN</td>\n",
       "      <td>NaN</td>\n",
       "      <td>NaN</td>\n",
       "      <td>NaN</td>\n",
       "      <td>4896.000000</td>\n",
       "      <td>3.000000</td>\n",
       "      <td>3.000000</td>\n",
       "      <td>NaN</td>\n",
       "      <td>1.000000</td>\n",
       "      <td>NaN</td>\n",
       "      <td>NaN</td>\n",
       "      <td>1.000000</td>\n",
       "    </tr>\n",
       "    <tr>\n",
       "      <th>50%</th>\n",
       "      <td>NaN</td>\n",
       "      <td>NaN</td>\n",
       "      <td>NaN</td>\n",
       "      <td>NaN</td>\n",
       "      <td>9548.000000</td>\n",
       "      <td>5.000000</td>\n",
       "      <td>4.000000</td>\n",
       "      <td>NaN</td>\n",
       "      <td>3.000000</td>\n",
       "      <td>NaN</td>\n",
       "      <td>NaN</td>\n",
       "      <td>4.000000</td>\n",
       "    </tr>\n",
       "    <tr>\n",
       "      <th>75%</th>\n",
       "      <td>NaN</td>\n",
       "      <td>NaN</td>\n",
       "      <td>NaN</td>\n",
       "      <td>NaN</td>\n",
       "      <td>63522.000000</td>\n",
       "      <td>5.000000</td>\n",
       "      <td>5.000000</td>\n",
       "      <td>NaN</td>\n",
       "      <td>5.000000</td>\n",
       "      <td>NaN</td>\n",
       "      <td>NaN</td>\n",
       "      <td>9.000000</td>\n",
       "    </tr>\n",
       "    <tr>\n",
       "      <th>max</th>\n",
       "      <td>NaN</td>\n",
       "      <td>NaN</td>\n",
       "      <td>NaN</td>\n",
       "      <td>NaN</td>\n",
       "      <td>178546.000000</td>\n",
       "      <td>10.000000</td>\n",
       "      <td>10.000000</td>\n",
       "      <td>NaN</td>\n",
       "      <td>10.000000</td>\n",
       "      <td>NaN</td>\n",
       "      <td>NaN</td>\n",
       "      <td>255.000000</td>\n",
       "    </tr>\n",
       "  </tbody>\n",
       "</table>\n",
       "</div>"
      ],
      "text/plain": [
       "           Age Condition        Date      Drug         DrugId      EaseofUse  \\\n",
       "count   362806    362806      362806    362806  362806.000000  362806.000000   \n",
       "unique      12      1806        4524      7093            NaN            NaN   \n",
       "top      45-54     Other  10/29/2007  cymbalta            NaN            NaN   \n",
       "freq     80043     49765         404      4648            NaN            NaN   \n",
       "mean       NaN       NaN         NaN       NaN   36879.370774       4.019829   \n",
       "std        NaN       NaN         NaN       NaN   52624.412971       1.317711   \n",
       "min        NaN       NaN         NaN       NaN       1.000000       1.000000   \n",
       "25%        NaN       NaN         NaN       NaN    4896.000000       3.000000   \n",
       "50%        NaN       NaN         NaN       NaN    9548.000000       5.000000   \n",
       "75%        NaN       NaN         NaN       NaN   63522.000000       5.000000   \n",
       "max        NaN       NaN         NaN       NaN  178546.000000      10.000000   \n",
       "\n",
       "        Effectiveness Reviews   Satisfaction     Sex   Sides    UsefulCount  \n",
       "count   362806.000000  362769  362806.000000  362806  362806  362806.000000  \n",
       "unique            NaN  250167            NaN       3    1651            NaN  \n",
       "top               NaN                    NaN  Female                    NaN  \n",
       "freq              NaN   41824            NaN  238226   17460            NaN  \n",
       "mean         3.532061     NaN       3.135408     NaN     NaN       6.744916  \n",
       "std          1.455961     NaN       1.611106     NaN     NaN       9.324240  \n",
       "min          1.000000     NaN       1.000000     NaN     NaN       0.000000  \n",
       "25%          3.000000     NaN       1.000000     NaN     NaN       1.000000  \n",
       "50%          4.000000     NaN       3.000000     NaN     NaN       4.000000  \n",
       "75%          5.000000     NaN       5.000000     NaN     NaN       9.000000  \n",
       "max         10.000000     NaN      10.000000     NaN     NaN     255.000000  "
      ]
     },
     "execution_count": 6,
     "metadata": {},
     "output_type": "execute_result"
    }
   ],
   "source": [
    "#Check the Description\n",
    "df.describe(include='all')"
   ]
  },
  {
   "cell_type": "markdown",
   "id": "52f91319",
   "metadata": {},
   "source": [
    "According to this dataset\n",
    "\n",
    "    Most used drug is cymbalta, It will be intresting to see for what condition it is used.\n",
    "    People of age between 45 to 54 used more drugs.\n",
    "    Females are used more drugs.\n",
    "    Most single day review came on 10/29/2007.\n",
    "\n"
   ]
  },
  {
   "cell_type": "code",
   "execution_count": 7,
   "id": "e79e923d",
   "metadata": {},
   "outputs": [
    {
     "data": {
      "text/plain": [
       "Age               0\n",
       "Condition         0\n",
       "Date              0\n",
       "Drug              0\n",
       "DrugId            0\n",
       "EaseofUse         0\n",
       "Effectiveness     0\n",
       "Reviews          37\n",
       "Satisfaction      0\n",
       "Sex               0\n",
       "Sides             0\n",
       "UsefulCount       0\n",
       "dtype: int64"
      ]
     },
     "execution_count": 7,
     "metadata": {},
     "output_type": "execute_result"
    }
   ],
   "source": [
    "#check for the null values \n",
    "df.isna().sum()"
   ]
  },
  {
   "cell_type": "markdown",
   "id": "1fa9c108",
   "metadata": {},
   "source": [
    "Here have null values in Reviews column only"
   ]
  },
  {
   "cell_type": "code",
   "execution_count": 8,
   "id": "3143c8d5",
   "metadata": {},
   "outputs": [
    {
     "data": {
      "text/plain": [
       "Age                  12\n",
       "Condition          1806\n",
       "Date               4524\n",
       "Drug               7093\n",
       "DrugId             6572\n",
       "EaseofUse             7\n",
       "Effectiveness         7\n",
       "Reviews          250168\n",
       "Satisfaction          7\n",
       "Sex                   3\n",
       "Sides              1651\n",
       "UsefulCount         148\n",
       "dtype: int64"
      ]
     },
     "execution_count": 8,
     "metadata": {},
     "output_type": "execute_result"
    }
   ],
   "source": [
    "df.apply(lambda x: len(x.unique()))"
   ]
  },
  {
   "cell_type": "markdown",
   "id": "7d293d39",
   "metadata": {},
   "source": [
    "check the unique values of each features"
   ]
  },
  {
   "cell_type": "code",
   "execution_count": 9,
   "id": "91f42930",
   "metadata": {},
   "outputs": [
    {
     "data": {
      "text/plain": [
       "Female    238226\n",
       "Male       98043\n",
       "           26537\n",
       "Name: Sex, dtype: int64"
      ]
     },
     "execution_count": 9,
     "metadata": {},
     "output_type": "execute_result"
    }
   ],
   "source": [
    "df[\"Sex\"].value_counts() "
   ]
  },
  {
   "cell_type": "markdown",
   "id": "7c836e30",
   "metadata": {},
   "source": [
    " In the 'Sex' column there are three unique values, one without name is found.ie. in 26537 rows sex column is blank"
   ]
  },
  {
   "cell_type": "code",
   "execution_count": 10,
   "id": "1db9086c",
   "metadata": {},
   "outputs": [
    {
     "data": {
      "text/plain": [
       "Female    65.7%\n",
       "Male      27.0%\n",
       "           7.3%\n",
       "Name: Sex, dtype: object"
      ]
     },
     "execution_count": 10,
     "metadata": {},
     "output_type": "execute_result"
    }
   ],
   "source": [
    "df['Sex'].value_counts(normalize=True).mul(100).round(1).astype(str) + '%'"
   ]
  },
  {
   "cell_type": "code",
   "execution_count": 11,
   "id": "90a9de4b",
   "metadata": {},
   "outputs": [],
   "source": [
    "#Since the number of rows having blank cells in Sex Column is only 7.3%, it is filled with NaN\n",
    "df['Sex'].replace(' ', np.nan, inplace=True)"
   ]
  },
  {
   "cell_type": "code",
   "execution_count": 12,
   "id": "86bf0b75",
   "metadata": {},
   "outputs": [
    {
     "data": {
      "text/plain": [
       "26537"
      ]
     },
     "execution_count": 12,
     "metadata": {},
     "output_type": "execute_result"
    }
   ],
   "source": [
    "df['Sex'].isnull().sum()"
   ]
  },
  {
   "cell_type": "code",
   "execution_count": 13,
   "id": "64b755e5",
   "metadata": {},
   "outputs": [],
   "source": [
    "#drop the null values in sex column\n",
    "df.dropna(subset=['Sex'], inplace=True)"
   ]
  },
  {
   "cell_type": "code",
   "execution_count": 14,
   "id": "106c85fb",
   "metadata": {},
   "outputs": [
    {
     "data": {
      "text/plain": [
       "Female    238226\n",
       "Male       98043\n",
       "Name: Sex, dtype: int64"
      ]
     },
     "execution_count": 14,
     "metadata": {},
     "output_type": "execute_result"
    }
   ],
   "source": [
    "df[\"Sex\"].value_counts()"
   ]
  },
  {
   "cell_type": "code",
   "execution_count": 15,
   "id": "805fd981",
   "metadata": {},
   "outputs": [
    {
     "data": {
      "text/plain": [
       "['Age', 'Condition', 'Date', 'Drug', 'Reviews', 'Sex', 'Sides']"
      ]
     },
     "execution_count": 15,
     "metadata": {},
     "output_type": "execute_result"
    }
   ],
   "source": [
    "# check for categorical attributes\n",
    "cat_col = []\n",
    "for x in df:\n",
    "    if df.dtypes[x] == 'object':\n",
    "        cat_col.append(x)\n",
    "cat_col"
   ]
  },
  {
   "cell_type": "code",
   "execution_count": 16,
   "id": "bf0361d2",
   "metadata": {},
   "outputs": [
    {
     "data": {
      "text/plain": [
       "cymbalta                                                         4451\n",
       "lisinopril solution                                              4022\n",
       "lisinopril                                                       4022\n",
       "lexapro                                                          3912\n",
       "hydrocodone-acetaminophen                                        3661\n",
       "                                                                 ... \n",
       "mucinex fast-max cold-sinus tablet                                  1\n",
       "deplin-algal oil                                                    1\n",
       "hydromorphone hcl-0.9% nacl patient controlled analgesia vial       1\n",
       "oxacillin solution, piggyback premix frozen                         1\n",
       "manganese sulfate powder                                            1\n",
       "Name: Drug, Length: 6846, dtype: int64"
      ]
     },
     "execution_count": 16,
     "metadata": {},
     "output_type": "execute_result"
    }
   ],
   "source": [
    "df['Drug'].value_counts()"
   ]
  },
  {
   "cell_type": "markdown",
   "id": "f70838dc",
   "metadata": {},
   "source": [
    "cymbalta is the most reviewed drug"
   ]
  },
  {
   "cell_type": "code",
   "execution_count": 17,
   "id": "fe993540",
   "metadata": {},
   "outputs": [
    {
     "data": {
      "image/png": "[encoded data removed]",
      "text/plain": [
       "<Figure size 1440x720 with 1 Axes>"
      ]
     },
     "metadata": {
      "needs_background": "light"
     },
     "output_type": "display_data"
    }
   ],
   "source": [
    "#plot a bargraph to check top 20 drugs used\n",
    "plt.figure(figsize=(20,10))\n",
    "df['Drug'].value_counts().nlargest(20).plot(kind='bar')\n",
    "plt.title(\"Top 20 Most popular drugs based on counts\")\n",
    "plt.show()"
   ]
  },
  {
   "cell_type": "markdown",
   "id": "b2453ef1",
   "metadata": {},
   "source": [
    "From the graph\n",
    "\n",
    "    The top used drug is cymbalta.\n",
    "    The top 4 drugs has count around 4000 and above.\n",
    "    If we look at the top 20 most of the drugs counts are around 2000."
   ]
  },
  {
   "cell_type": "code",
   "execution_count": 18,
   "id": "b1a96c7b",
   "metadata": {},
   "outputs": [
    {
     "data": {
      "image/png": "[encoded data removed]",
      "text/plain": [
       "<Figure size 864x432 with 1 Axes>"
      ]
     },
     "metadata": {
      "needs_background": "light"
     },
     "output_type": "display_data"
    }
   ],
   "source": [
    "#plot a bargraph to check bottom 20 drugs used\n",
    "plt.figure(figsize=(12,6))\n",
    "drug_bottom=df['Drug'].value_counts(ascending = False).tail(20)\n",
    "\n",
    "plt.bar(drug_bottom.index,drug_bottom.values,color='blue')\n",
    "plt.title('Bottom 20 drugs used',fontsize = 20)\n",
    "plt.xticks(rotation=90)\n",
    "plt.ylabel('count')\n",
    "plt.show()"
   ]
  },
  {
   "cell_type": "markdown",
   "id": "b16082d1",
   "metadata": {},
   "source": [
    "From the above graph the each bottom 20 used drugs has count 1. These might be the drugs used of rare conditions or are new in market."
   ]
  },
  {
   "cell_type": "code",
   "execution_count": 19,
   "id": "cce704d3",
   "metadata": {},
   "outputs": [
    {
     "data": {
      "text/plain": [
       "5    120887\n",
       "4     76460\n",
       "3     56114\n",
       "1     54330\n",
       "2     28476\n",
       "6         2\n",
       "Name: Effectiveness, dtype: int64"
      ]
     },
     "execution_count": 19,
     "metadata": {},
     "output_type": "execute_result"
    }
   ],
   "source": [
    "df['Effectiveness'].value_counts()"
   ]
  },
  {
   "cell_type": "code",
   "execution_count": 20,
   "id": "fe02fe03",
   "metadata": {},
   "outputs": [
    {
     "name": "stdout",
     "output_type": "stream",
     "text": [
      "   Effectiveness  counts    percent\n",
      "0              5  120887  35.949493\n",
      "1              4   76460  22.737749\n",
      "2              3   56114  16.687236\n",
      "3              1   54330  16.156708\n",
      "4              2   28476   8.468220\n",
      "5              6       2   0.000595\n"
     ]
    }
   ],
   "source": [
    "#Checking effectiveness Distribution\n",
    "eff_=df['Effectiveness'].value_counts().sort_values(ascending=False).reset_index().\\\n",
    "rename(columns = {'index' :'Effectiveness', 'Effectiveness' : 'counts'})\n",
    "eff_['percent'] = 100 * (eff_['counts']/df.shape[0])\n",
    "print(eff_)"
   ]
  },
  {
   "cell_type": "code",
   "execution_count": 21,
   "id": "6c3280bb",
   "metadata": {},
   "outputs": [
    {
     "data": {
      "image/png": "[encoded data removed]",
      "text/plain": [
       "<Figure size 864x432 with 1 Axes>"
      ]
     },
     "metadata": {},
     "output_type": "display_data"
    }
   ],
   "source": [
    "# Setting the Parameter\n",
    "sns.set(font_scale = 1.2, style = 'darkgrid')\n",
    "plt.rcParams['figure.figsize'] = [12, 6]\n",
    "#let's plot and check\n",
    "sns.barplot(x =eff_['Effectiveness'], y =eff_['percent'],order =eff_['Effectiveness'])\n",
    "plt.title('Effectiveness Percent',fontsize=20)\n",
    "plt.show()"
   ]
  },
  {
   "cell_type": "markdown",
   "id": "57b06e19",
   "metadata": {},
   "source": [
    "Out of 10 the effectiveness of most of the drugs are 5 only. And others are below 5."
   ]
  },
  {
   "cell_type": "code",
   "execution_count": 22,
   "id": "6a0ad4a6",
   "metadata": {},
   "outputs": [],
   "source": [
    "#\"Effectiveness\" column contains rating value from 1 to 5,Therefore values that indicates rating of 6 will be removed in order to get a clean Data Set\n",
    "index_names = df[ df['Effectiveness'] == 6 ].index\n",
    "df.drop(index_names, inplace = True)"
   ]
  },
  {
   "cell_type": "code",
   "execution_count": 23,
   "id": "178f4660",
   "metadata": {},
   "outputs": [
    {
     "data": {
      "text/plain": [
       "5    120887\n",
       "4     76460\n",
       "3     56114\n",
       "1     54330\n",
       "2     28476\n",
       "Name: Effectiveness, dtype: int64"
      ]
     },
     "execution_count": 23,
     "metadata": {},
     "output_type": "execute_result"
    }
   ],
   "source": [
    "df[\"Effectiveness\"].value_counts()"
   ]
  },
  {
   "cell_type": "markdown",
   "id": "3dc549aa",
   "metadata": {},
   "source": [
    "# Selection of Drug"
   ]
  },
  {
   "cell_type": "markdown",
   "id": "8e4a8f84",
   "metadata": {},
   "source": [
    "We are selecting the dataset of drug named 'cymbalta' with DrugId =91491 .Because it is the most reviewed or used drug from the dataset."
   ]
  },
  {
   "cell_type": "code",
   "execution_count": 24,
   "id": "c527fedb",
   "metadata": {},
   "outputs": [],
   "source": [
    "df_cym=df.drop(df.loc[(df['Drug']!='cymbalta')].index)"
   ]
  },
  {
   "cell_type": "code",
   "execution_count": 25,
   "id": "af2e73a6",
   "metadata": {},
   "outputs": [
    {
     "data": {
      "text/plain": [
       "(4451, 12)"
      ]
     },
     "execution_count": 25,
     "metadata": {},
     "output_type": "execute_result"
    }
   ],
   "source": [
    "df_cym.shape"
   ]
  },
  {
   "cell_type": "code",
   "execution_count": 26,
   "id": "56e95da8",
   "metadata": {},
   "outputs": [
    {
     "data": {
      "text/html": [
       "<div>\n",
       "<style scoped>\n",
       "    .dataframe tbody tr th:only-of-type {\n",
       "        vertical-align: middle;\n",
       "    }\n",
       "\n",
       "    .dataframe tbody tr th {\n",
       "        vertical-align: top;\n",
       "    }\n",
       "\n",
       "    .dataframe thead th {\n",
       "        text-align: right;\n",
       "    }\n",
       "</style>\n",
       "<table border=\"1\" class=\"dataframe\">\n",
       "  <thead>\n",
       "    <tr style=\"text-align: right;\">\n",
       "      <th></th>\n",
       "      <th>Age</th>\n",
       "      <th>Condition</th>\n",
       "      <th>Date</th>\n",
       "      <th>Drug</th>\n",
       "      <th>DrugId</th>\n",
       "      <th>EaseofUse</th>\n",
       "      <th>Effectiveness</th>\n",
       "      <th>Reviews</th>\n",
       "      <th>Satisfaction</th>\n",
       "      <th>Sex</th>\n",
       "      <th>Sides</th>\n",
       "      <th>UsefulCount</th>\n",
       "    </tr>\n",
       "  </thead>\n",
       "  <tbody>\n",
       "    <tr>\n",
       "      <th>314216</th>\n",
       "      <td>45-54</td>\n",
       "      <td>Repeated Episodes of Anxiety</td>\n",
       "      <td>1/13/2020</td>\n",
       "      <td>cymbalta</td>\n",
       "      <td>91491</td>\n",
       "      <td>3</td>\n",
       "      <td>1</td>\n",
       "      <td>I was prescribed Cymbalta for anxiety and star...</td>\n",
       "      <td>1</td>\n",
       "      <td>Male</td>\n",
       "      <td>Nausea ,  dry mouth ,  constipation , loss of ...</td>\n",
       "      <td>0</td>\n",
       "    </tr>\n",
       "    <tr>\n",
       "      <th>314235</th>\n",
       "      <td>35-44</td>\n",
       "      <td>Anxiousness associated with Depression</td>\n",
       "      <td>12/6/2019</td>\n",
       "      <td>cymbalta</td>\n",
       "      <td>91491</td>\n",
       "      <td>3</td>\n",
       "      <td>3</td>\n",
       "      <td>Bipolar I with a neck fusion. Pdoc prescribed ...</td>\n",
       "      <td>2</td>\n",
       "      <td>Female</td>\n",
       "      <td>Nausea ,  dry mouth ,  constipation , loss of ...</td>\n",
       "      <td>0</td>\n",
       "    </tr>\n",
       "    <tr>\n",
       "      <th>314267</th>\n",
       "      <td>45-54</td>\n",
       "      <td>Chronic Muscle or Bone Pain</td>\n",
       "      <td>11/9/2019</td>\n",
       "      <td>cymbalta</td>\n",
       "      <td>91491</td>\n",
       "      <td>5</td>\n",
       "      <td>4</td>\n",
       "      <td>I have only had one 30mg and so far i noticed ...</td>\n",
       "      <td>4</td>\n",
       "      <td>Female</td>\n",
       "      <td>Nausea ,  dry mouth ,  constipation , loss of ...</td>\n",
       "      <td>0</td>\n",
       "    </tr>\n",
       "    <tr>\n",
       "      <th>314281</th>\n",
       "      <td>19-24</td>\n",
       "      <td>Major Depressive Disorder</td>\n",
       "      <td>9/29/2019</td>\n",
       "      <td>cymbalta</td>\n",
       "      <td>91491</td>\n",
       "      <td>2</td>\n",
       "      <td>1</td>\n",
       "      <td></td>\n",
       "      <td>1</td>\n",
       "      <td>Male</td>\n",
       "      <td>Nausea ,  dry mouth ,  constipation , loss of ...</td>\n",
       "      <td>2</td>\n",
       "    </tr>\n",
       "    <tr>\n",
       "      <th>314305</th>\n",
       "      <td>55-64</td>\n",
       "      <td>Chronic Muscle or Bone Pain</td>\n",
       "      <td>9/18/2019</td>\n",
       "      <td>cymbalta</td>\n",
       "      <td>91491</td>\n",
       "      <td>5</td>\n",
       "      <td>4</td>\n",
       "      <td>The biggest problem was impotency from this pi...</td>\n",
       "      <td>4</td>\n",
       "      <td>Male</td>\n",
       "      <td>Nausea ,  dry mouth ,  constipation , loss of ...</td>\n",
       "      <td>0</td>\n",
       "    </tr>\n",
       "  </tbody>\n",
       "</table>\n",
       "</div>"
      ],
      "text/plain": [
       "          Age                               Condition       Date      Drug  \\\n",
       "314216  45-54            Repeated Episodes of Anxiety  1/13/2020  cymbalta   \n",
       "314235  35-44  Anxiousness associated with Depression  12/6/2019  cymbalta   \n",
       "314267  45-54             Chronic Muscle or Bone Pain  11/9/2019  cymbalta   \n",
       "314281  19-24               Major Depressive Disorder  9/29/2019  cymbalta   \n",
       "314305  55-64             Chronic Muscle or Bone Pain  9/18/2019  cymbalta   \n",
       "\n",
       "        DrugId  EaseofUse  Effectiveness  \\\n",
       "314216   91491          3              1   \n",
       "314235   91491          3              3   \n",
       "314267   91491          5              4   \n",
       "314281   91491          2              1   \n",
       "314305   91491          5              4   \n",
       "\n",
       "                                                  Reviews  Satisfaction  \\\n",
       "314216  I was prescribed Cymbalta for anxiety and star...             1   \n",
       "314235  Bipolar I with a neck fusion. Pdoc prescribed ...             2   \n",
       "314267  I have only had one 30mg and so far i noticed ...             4   \n",
       "314281                                                                1   \n",
       "314305  The biggest problem was impotency from this pi...             4   \n",
       "\n",
       "           Sex                                              Sides  UsefulCount  \n",
       "314216    Male  Nausea ,  dry mouth ,  constipation , loss of ...            0  \n",
       "314235  Female  Nausea ,  dry mouth ,  constipation , loss of ...            0  \n",
       "314267  Female  Nausea ,  dry mouth ,  constipation , loss of ...            0  \n",
       "314281    Male  Nausea ,  dry mouth ,  constipation , loss of ...            2  \n",
       "314305    Male  Nausea ,  dry mouth ,  constipation , loss of ...            0  "
      ]
     },
     "execution_count": 26,
     "metadata": {},
     "output_type": "execute_result"
    }
   ],
   "source": [
    "df_cym.head()"
   ]
  },
  {
   "cell_type": "code",
   "execution_count": 27,
   "id": "c0c9262f",
   "metadata": {},
   "outputs": [
    {
     "data": {
      "text/plain": [
       "8"
      ]
     },
     "execution_count": 27,
     "metadata": {},
     "output_type": "execute_result"
    }
   ],
   "source": [
    "df_cym.Condition.nunique()"
   ]
  },
  {
   "cell_type": "markdown",
   "id": "4753cd09",
   "metadata": {},
   "source": [
    "Cymbalta is used for the various conditions of patients."
   ]
  },
  {
   "cell_type": "code",
   "execution_count": 28,
   "id": "033d17a6",
   "metadata": {},
   "outputs": [
    {
     "data": {
      "text/plain": [
       "Major Depressive Disorder                                    1855\n",
       "Neuropathic Pain                                              670\n",
       "Repeated Episodes of Anxiety                                  560\n",
       "Other                                                         496\n",
       "Disorder characterized by Stiff, Tender & Painful Muscles     398\n",
       "Chronic Muscle or Bone Pain                                   387\n",
       "Diabetic Complication causing Injury to some Body Nerves       49\n",
       "Anxiousness associated with Depression                         36\n",
       "Name: Condition, dtype: int64"
      ]
     },
     "execution_count": 28,
     "metadata": {},
     "output_type": "execute_result"
    }
   ],
   "source": [
    "df_cym['Condition'].value_counts()"
   ]
  },
  {
   "cell_type": "code",
   "execution_count": 29,
   "id": "6bb5cb35",
   "metadata": {},
   "outputs": [
    {
     "data": {
      "text/plain": [
       "1"
      ]
     },
     "execution_count": 29,
     "metadata": {},
     "output_type": "execute_result"
    }
   ],
   "source": [
    "df_cym.Sides.nunique()"
   ]
  },
  {
   "cell_type": "markdown",
   "id": "419b5181",
   "metadata": {},
   "source": [
    "Cymbalta has same side effects throughout the dataset"
   ]
  },
  {
   "cell_type": "code",
   "execution_count": 30,
   "id": "afd0edc1",
   "metadata": {},
   "outputs": [
    {
     "data": {
      "text/plain": [
       "Nausea ,  dry mouth ,  constipation , loss of appetite, tiredness, drowsiness, or increased  sweating  may occur.    4451\n",
       "Name: Sides, dtype: int64"
      ]
     },
     "execution_count": 30,
     "metadata": {},
     "output_type": "execute_result"
    }
   ],
   "source": [
    "df_cym['Sides'].value_counts()"
   ]
  },
  {
   "cell_type": "code",
   "execution_count": 31,
   "id": "1a24e49f",
   "metadata": {},
   "outputs": [
    {
     "data": {
      "text/plain": [
       "1    1433\n",
       "5    1210\n",
       "4     819\n",
       "3     619\n",
       "2     370\n",
       "Name: Satisfaction, dtype: int64"
      ]
     },
     "execution_count": 31,
     "metadata": {},
     "output_type": "execute_result"
    }
   ],
   "source": [
    "df_cym['Satisfaction'].value_counts()"
   ]
  },
  {
   "cell_type": "code",
   "execution_count": 32,
   "id": "bfa2e501",
   "metadata": {},
   "outputs": [
    {
     "data": {
      "text/plain": [
       "array([  0,   2,   1,  22,  12,   3,  30,  15,   4,   5,  28,  21,  25,\n",
       "         7,  18,   9,  56,  29,   8,  23,   6,  19,  32,  24,  17,  13,\n",
       "        14,  10,  11,  16,  20,  42, 103,  38,  26,  61, 145,  27,  43,\n",
       "        39,  35,  33,  48,  36,  31,  93,  82,  58,  46,  47,  45,  44,\n",
       "        34,  60,  50,  41, 116,  51,  40,  65,  97,  77, 129,  68,  59,\n",
       "        37], dtype=int64)"
      ]
     },
     "execution_count": 32,
     "metadata": {},
     "output_type": "execute_result"
    }
   ],
   "source": [
    "df_cym['UsefulCount'].unique()"
   ]
  },
  {
   "cell_type": "code",
   "execution_count": 33,
   "id": "d2d74c48",
   "metadata": {},
   "outputs": [],
   "source": [
    "#Since Reviews is having more than half of the values as unique we can neglect this column.\n",
    "df_cym.drop(\"Reviews\",axis=1,inplace=True)"
   ]
  },
  {
   "cell_type": "code",
   "execution_count": 34,
   "id": "9400d19b",
   "metadata": {},
   "outputs": [
    {
     "data": {
      "text/plain": [
       "Age               0\n",
       "Condition         0\n",
       "Date              0\n",
       "Drug              0\n",
       "DrugId            0\n",
       "EaseofUse         0\n",
       "Effectiveness     0\n",
       "Reviews          33\n",
       "Satisfaction      0\n",
       "Sex               0\n",
       "Sides             0\n",
       "UsefulCount       0\n",
       "dtype: int64"
      ]
     },
     "execution_count": 34,
     "metadata": {},
     "output_type": "execute_result"
    }
   ],
   "source": [
    "df.isnull().sum()"
   ]
  },
  {
   "cell_type": "code",
   "execution_count": 35,
   "id": "15c174dd",
   "metadata": {},
   "outputs": [],
   "source": [
    "df_copy=df_cym"
   ]
  },
  {
   "cell_type": "markdown",
   "id": "3d6a0a59",
   "metadata": {},
   "source": [
    "# Finding Missing Values"
   ]
  },
  {
   "cell_type": "code",
   "execution_count": 36,
   "id": "14132541",
   "metadata": {},
   "outputs": [
    {
     "data": {
      "text/plain": [
       "45-54         1264\n",
       "55-64          961\n",
       "35-44          860\n",
       "25-34          580\n",
       "65-74          381\n",
       "19-24          222\n",
       "75 or over      98\n",
       "                51\n",
       "13-18           32\n",
       "0-2              1\n",
       "7-12             1\n",
       "Name: Age, dtype: int64"
      ]
     },
     "execution_count": 36,
     "metadata": {},
     "output_type": "execute_result"
    }
   ],
   "source": [
    "df_cym[\"Age\"].value_counts()"
   ]
  },
  {
   "cell_type": "markdown",
   "id": "3d8817db",
   "metadata": {},
   "source": [
    "there is a blank space and the age group 3-6 is seem to be missing"
   ]
  },
  {
   "cell_type": "code",
   "execution_count": 37,
   "id": "10c79f3f",
   "metadata": {},
   "outputs": [],
   "source": [
    "#we can fill the blank space with a value 3-6\n",
    "df_cym['Age'].replace(to_replace = [' '], value = '3-6', inplace = True)"
   ]
  },
  {
   "cell_type": "code",
   "execution_count": 38,
   "id": "8c32d87c",
   "metadata": {},
   "outputs": [
    {
     "data": {
      "text/plain": [
       "45-54         1264\n",
       "55-64          961\n",
       "35-44          860\n",
       "25-34          580\n",
       "65-74          381\n",
       "19-24          222\n",
       "75 or over      98\n",
       "3-6             51\n",
       "13-18           32\n",
       "0-2              1\n",
       "7-12             1\n",
       "Name: Age, dtype: int64"
      ]
     },
     "execution_count": 38,
     "metadata": {},
     "output_type": "execute_result"
    }
   ],
   "source": [
    "df_cym['Age'].value_counts()"
   ]
  },
  {
   "cell_type": "markdown",
   "id": "6102690d",
   "metadata": {},
   "source": [
    "# CORRELATION"
   ]
  },
  {
   "cell_type": "code",
   "execution_count": 39,
   "id": "1c7ada16",
   "metadata": {},
   "outputs": [
    {
     "data": {
      "image/png": "[encoded data removed]",
      "text/plain": [
       "<Figure size 720x576 with 2 Axes>"
      ]
     },
     "metadata": {},
     "output_type": "display_data"
    }
   ],
   "source": [
    "fig=plt.gcf()\n",
    "fig.set_size_inches(10,8)\n",
    "colormap=sns.color_palette('Greens')\n",
    "fig=sns.heatmap(df_cym.corr(),annot=True,linewidths=1,linecolor='k',square=True,mask=False, vmin=-1, vmax=1,cbar_kws={\"orientation\": \"vertical\"},cbar=True,cmap=colormap)"
   ]
  },
  {
   "cell_type": "markdown",
   "id": "617d9e01",
   "metadata": {},
   "source": [
    "Effectiveness and Satisfaction are highly correlated"
   ]
  },
  {
   "cell_type": "markdown",
   "id": "88b35846",
   "metadata": {},
   "source": [
    "# OUTLIERS DETECTION"
   ]
  },
  {
   "cell_type": "code",
   "execution_count": 40,
   "id": "1e15a1fc",
   "metadata": {},
   "outputs": [
    {
     "data": {
      "image/png": "[encoded data removed]",
      "text/plain": [
       "<Figure size 936x504 with 4 Axes>"
      ]
     },
     "metadata": {},
     "output_type": "display_data"
    }
   ],
   "source": [
    "plt.figure(figsize=(13,7))\n",
    "\n",
    "plt.subplot(2,2,1)\n",
    "plt.boxplot(df_cym[\"EaseofUse\"])\n",
    "plt.title(\"boxplot of Ease of use\")\n",
    "\n",
    "plt.subplot(2,2,2)\n",
    "plt.boxplot(df_cym[\"Effectiveness\"])\n",
    "plt.title(\"boxplot of Effectiveness\")\n",
    "\n",
    "plt.subplot(2,2,3)\n",
    "plt.boxplot(df_cym[\"Satisfaction\"])\n",
    "plt.title(\"boxplot of Satisfaction\")\n",
    "\n",
    "plt.subplot(2,2,4)\n",
    "plt.boxplot(df_cym[\"UsefulCount\"])\n",
    "plt.title(\"boxplot of useful count\")\n",
    "plt.show()"
   ]
  },
  {
   "cell_type": "markdown",
   "id": "79d178b2",
   "metadata": {},
   "source": [
    "Boxplot of useful count and ease of use shows that so many outliers are their and these values are more important for the further processing so moves to handle outliers."
   ]
  },
  {
   "cell_type": "code",
   "execution_count": 41,
   "id": "ce08c8fc",
   "metadata": {},
   "outputs": [
    {
     "name": "stdout",
     "output_type": "stream",
     "text": [
      "lower limit= -8.5\n",
      "upperlimit =  19.5\n"
     ]
    }
   ],
   "source": [
    "Q1=np.percentile(df_cym[\"UsefulCount\"],25,interpolation=\"midpoint\")\n",
    "Q3=np.percentile(df_cym[\"UsefulCount\"],75,interpolation=\"midpoint\")\n",
    "IQR=Q3-Q1\n",
    "low=Q1-(1.5*IQR)\n",
    "upper=Q3+(1.5*IQR)\n",
    "print(\"lower limit=\",low)\n",
    "print(\"upperlimit = \",upper)"
   ]
  },
  {
   "cell_type": "code",
   "execution_count": 42,
   "id": "941cd2e8",
   "metadata": {},
   "outputs": [
    {
     "data": {
      "text/plain": [
       "[22,\n",
       " 30,\n",
       " 28,\n",
       " 21,\n",
       " 25,\n",
       " 56,\n",
       " 29,\n",
       " 23,\n",
       " 29,\n",
       " 21,\n",
       " 32,\n",
       " 24,\n",
       " 22,\n",
       " 21,\n",
       " 25,\n",
       " 21,\n",
       " 25,\n",
       " 32,\n",
       " 22,\n",
       " 30,\n",
       " 20,\n",
       " 42,\n",
       " 30,\n",
       " 22,\n",
       " 103,\n",
       " 38,\n",
       " 28,\n",
       " 30,\n",
       " 26,\n",
       " 61,\n",
       " 25,\n",
       " 26,\n",
       " 28,\n",
       " 145,\n",
       " 27,\n",
       " 29,\n",
       " 43,\n",
       " 39,\n",
       " 30,\n",
       " 22,\n",
       " 21,\n",
       " 35,\n",
       " 33,\n",
       " 48,\n",
       " 36,\n",
       " 56,\n",
       " 27,\n",
       " 38,\n",
       " 21,\n",
       " 24,\n",
       " 30,\n",
       " 22,\n",
       " 22,\n",
       " 21,\n",
       " 31,\n",
       " 21,\n",
       " 21,\n",
       " 25,\n",
       " 93,\n",
       " 24,\n",
       " 31,\n",
       " 35,\n",
       " 82,\n",
       " 20,\n",
       " 33,\n",
       " 25,\n",
       " 58,\n",
       " 20,\n",
       " 46,\n",
       " 21,\n",
       " 47,\n",
       " 45,\n",
       " 44,\n",
       " 34,\n",
       " 60,\n",
       " 48,\n",
       " 26,\n",
       " 29,\n",
       " 50,\n",
       " 36,\n",
       " 20,\n",
       " 25,\n",
       " 47,\n",
       " 20,\n",
       " 20,\n",
       " 23,\n",
       " 41,\n",
       " 26,\n",
       " 21,\n",
       " 22,\n",
       " 25,\n",
       " 21,\n",
       " 23,\n",
       " 22,\n",
       " 28,\n",
       " 22,\n",
       " 21,\n",
       " 28,\n",
       " 20,\n",
       " 42,\n",
       " 27,\n",
       " 20,\n",
       " 28,\n",
       " 22,\n",
       " 26,\n",
       " 25,\n",
       " 29,\n",
       " 23,\n",
       " 26,\n",
       " 116,\n",
       " 21,\n",
       " 51,\n",
       " 40,\n",
       " 29,\n",
       " 20,\n",
       " 28,\n",
       " 28,\n",
       " 25,\n",
       " 21,\n",
       " 34,\n",
       " 31,\n",
       " 30,\n",
       " 23,\n",
       " 20,\n",
       " 20,\n",
       " 26,\n",
       " 35,\n",
       " 29,\n",
       " 65,\n",
       " 24,\n",
       " 22,\n",
       " 30,\n",
       " 20,\n",
       " 26,\n",
       " 34,\n",
       " 20,\n",
       " 21,\n",
       " 46,\n",
       " 23,\n",
       " 20,\n",
       " 23,\n",
       " 27,\n",
       " 27,\n",
       " 35,\n",
       " 25,\n",
       " 20,\n",
       " 21,\n",
       " 21,\n",
       " 28,\n",
       " 97,\n",
       " 23,\n",
       " 23,\n",
       " 22,\n",
       " 33,\n",
       " 56,\n",
       " 45,\n",
       " 22,\n",
       " 39,\n",
       " 21,\n",
       " 23,\n",
       " 41,\n",
       " 77,\n",
       " 31,\n",
       " 129,\n",
       " 24,\n",
       " 22,\n",
       " 20,\n",
       " 31,\n",
       " 24,\n",
       " 34,\n",
       " 22,\n",
       " 20,\n",
       " 21,\n",
       " 23,\n",
       " 24,\n",
       " 21,\n",
       " 22,\n",
       " 22,\n",
       " 21,\n",
       " 20,\n",
       " 29,\n",
       " 22,\n",
       " 22,\n",
       " 23,\n",
       " 20,\n",
       " 22,\n",
       " 22,\n",
       " 28,\n",
       " 24,\n",
       " 20,\n",
       " 20,\n",
       " 22,\n",
       " 24,\n",
       " 20,\n",
       " 21,\n",
       " 22,\n",
       " 32,\n",
       " 21,\n",
       " 20,\n",
       " 21,\n",
       " 27,\n",
       " 46,\n",
       " 31,\n",
       " 29,\n",
       " 44,\n",
       " 46,\n",
       " 36,\n",
       " 28,\n",
       " 28,\n",
       " 50,\n",
       " 68,\n",
       " 31,\n",
       " 38,\n",
       " 36,\n",
       " 23,\n",
       " 20,\n",
       " 59,\n",
       " 28,\n",
       " 28,\n",
       " 24,\n",
       " 58,\n",
       " 26,\n",
       " 25,\n",
       " 23,\n",
       " 23,\n",
       " 23,\n",
       " 24,\n",
       " 33,\n",
       " 44,\n",
       " 25,\n",
       " 43,\n",
       " 20,\n",
       " 37,\n",
       " 20,\n",
       " 24,\n",
       " 26,\n",
       " 22,\n",
       " 29,\n",
       " 36,\n",
       " 23,\n",
       " 44,\n",
       " 25,\n",
       " 27,\n",
       " 29]"
      ]
     },
     "execution_count": 42,
     "metadata": {},
     "output_type": "execute_result"
    }
   ],
   "source": [
    "outlier = []\n",
    "for x in df_cym['UsefulCount']:\n",
    "    if((x>upper)or(x<low)):\n",
    "        outlier.append(x)\n",
    "outlier"
   ]
  },
  {
   "cell_type": "code",
   "execution_count": 43,
   "id": "bb23696b",
   "metadata": {},
   "outputs": [],
   "source": [
    "df_cym=df_cym.drop(df_cym.loc[df_cym[\"UsefulCount\"]>upper].index)\n",
    "df_cym=df_cym.drop(df_cym.loc[df_cym[\"UsefulCount\"]<low].index)"
   ]
  },
  {
   "cell_type": "code",
   "execution_count": 44,
   "id": "0dbf71ce",
   "metadata": {},
   "outputs": [
    {
     "data": {
      "text/plain": [
       "{'whiskers': [<matplotlib.lines.Line2D at 0x2cc2abe0760>,\n",
       "  <matplotlib.lines.Line2D at 0x2cc2abe0ac0>],\n",
       " 'caps': [<matplotlib.lines.Line2D at 0x2cc2abe0e20>,\n",
       "  <matplotlib.lines.Line2D at 0x2cc2abed1c0>],\n",
       " 'boxes': [<matplotlib.lines.Line2D at 0x2cc2abe0400>],\n",
       " 'medians': [<matplotlib.lines.Line2D at 0x2cc2abed520>],\n",
       " 'fliers': [<matplotlib.lines.Line2D at 0x2cc2abed880>],\n",
       " 'means': []}"
      ]
     },
     "execution_count": 44,
     "metadata": {},
     "output_type": "execute_result"
    },
    {
     "data": {
      "image/png": "[encoded data removed]",
      "text/plain": [
       "<Figure size 864x432 with 1 Axes>"
      ]
     },
     "metadata": {},
     "output_type": "display_data"
    }
   ],
   "source": [
    "plt.boxplot(df_cym[\"UsefulCount\"])"
   ]
  },
  {
   "cell_type": "code",
   "execution_count": 45,
   "id": "fb75883b",
   "metadata": {},
   "outputs": [
    {
     "name": "stdout",
     "output_type": "stream",
     "text": [
      "lower limit= 2.5\n",
      "upperlimit =  6.5\n"
     ]
    }
   ],
   "source": [
    "Q1=np.percentile(df_cym[\"EaseofUse\"],25,interpolation=\"midpoint\")\n",
    "Q3=np.percentile(df_cym[\"EaseofUse\"],75,interpolation=\"midpoint\")\n",
    "IQR=Q3-Q1\n",
    "low=Q1-(1.5*IQR)\n",
    "upper=Q3+(1.5*IQR)\n",
    "print(\"lower limit=\",low)\n",
    "print(\"upperlimit = \",upper)"
   ]
  },
  {
   "cell_type": "code",
   "execution_count": 46,
   "id": "571e9ba4",
   "metadata": {},
   "outputs": [
    {
     "data": {
      "text/plain": [
       "[2,\n",
       " 1,\n",
       " 1,\n",
       " 1,\n",
       " 1,\n",
       " 1,\n",
       " 1,\n",
       " 1,\n",
       " 1,\n",
       " 1,\n",
       " 1,\n",
       " 2,\n",
       " 1,\n",
       " 1,\n",
       " 1,\n",
       " 1,\n",
       " 2,\n",
       " 2,\n",
       " 1,\n",
       " 1,\n",
       " 1,\n",
       " 1,\n",
       " 1,\n",
       " 2,\n",
       " 1,\n",
       " 1,\n",
       " 1,\n",
       " 2,\n",
       " 1,\n",
       " 1,\n",
       " 1,\n",
       " 2,\n",
       " 2,\n",
       " 1,\n",
       " 1,\n",
       " 1,\n",
       " 1,\n",
       " 2,\n",
       " 1,\n",
       " 1,\n",
       " 1,\n",
       " 1,\n",
       " 1,\n",
       " 1,\n",
       " 1,\n",
       " 1,\n",
       " 1,\n",
       " 1,\n",
       " 1,\n",
       " 1,\n",
       " 2,\n",
       " 2,\n",
       " 2,\n",
       " 1,\n",
       " 1,\n",
       " 1,\n",
       " 1,\n",
       " 2,\n",
       " 1,\n",
       " 2,\n",
       " 1,\n",
       " 2,\n",
       " 1,\n",
       " 2,\n",
       " 2,\n",
       " 1,\n",
       " 1,\n",
       " 1,\n",
       " 2,\n",
       " 1,\n",
       " 1,\n",
       " 1,\n",
       " 1,\n",
       " 1,\n",
       " 1,\n",
       " 1,\n",
       " 1,\n",
       " 1,\n",
       " 2,\n",
       " 1,\n",
       " 2,\n",
       " 1,\n",
       " 1,\n",
       " 1,\n",
       " 1,\n",
       " 1,\n",
       " 1,\n",
       " 1,\n",
       " 1,\n",
       " 1,\n",
       " 2,\n",
       " 1,\n",
       " 1,\n",
       " 1,\n",
       " 2,\n",
       " 1,\n",
       " 1,\n",
       " 1,\n",
       " 1,\n",
       " 1,\n",
       " 1,\n",
       " 1,\n",
       " 1,\n",
       " 1,\n",
       " 1,\n",
       " 1,\n",
       " 1,\n",
       " 2,\n",
       " 1,\n",
       " 1,\n",
       " 1,\n",
       " 1,\n",
       " 1,\n",
       " 1,\n",
       " 1,\n",
       " 2,\n",
       " 1,\n",
       " 1,\n",
       " 1,\n",
       " 1,\n",
       " 1,\n",
       " 1,\n",
       " 2,\n",
       " 1,\n",
       " 2,\n",
       " 1,\n",
       " 1,\n",
       " 1,\n",
       " 1,\n",
       " 2,\n",
       " 2,\n",
       " 1,\n",
       " 1,\n",
       " 1,\n",
       " 2,\n",
       " 1,\n",
       " 2,\n",
       " 2,\n",
       " 1,\n",
       " 1,\n",
       " 1,\n",
       " 1,\n",
       " 1,\n",
       " 1,\n",
       " 1,\n",
       " 2,\n",
       " 1,\n",
       " 1,\n",
       " 1,\n",
       " 1,\n",
       " 1,\n",
       " 1,\n",
       " 2,\n",
       " 2,\n",
       " 1,\n",
       " 1,\n",
       " 1,\n",
       " 1,\n",
       " 2,\n",
       " 1,\n",
       " 1,\n",
       " 1,\n",
       " 2,\n",
       " 1,\n",
       " 1,\n",
       " 1,\n",
       " 1,\n",
       " 1,\n",
       " 1,\n",
       " 1,\n",
       " 2,\n",
       " 1,\n",
       " 1,\n",
       " 1,\n",
       " 2,\n",
       " 1,\n",
       " 2,\n",
       " 2,\n",
       " 1,\n",
       " 1,\n",
       " 1,\n",
       " 1,\n",
       " 2,\n",
       " 2,\n",
       " 2,\n",
       " 2,\n",
       " 1,\n",
       " 2,\n",
       " 1,\n",
       " 1,\n",
       " 1,\n",
       " 1,\n",
       " 1,\n",
       " 1,\n",
       " 1,\n",
       " 1,\n",
       " 1,\n",
       " 1,\n",
       " 2,\n",
       " 2,\n",
       " 1,\n",
       " 1,\n",
       " 1,\n",
       " 1,\n",
       " 2,\n",
       " 1,\n",
       " 1,\n",
       " 1,\n",
       " 2,\n",
       " 1,\n",
       " 1,\n",
       " 1,\n",
       " 2,\n",
       " 1,\n",
       " 2,\n",
       " 1,\n",
       " 1,\n",
       " 2,\n",
       " 1,\n",
       " 1,\n",
       " 1,\n",
       " 1,\n",
       " 1,\n",
       " 2,\n",
       " 2,\n",
       " 1,\n",
       " 1,\n",
       " 1,\n",
       " 1,\n",
       " 1,\n",
       " 2,\n",
       " 2,\n",
       " 1,\n",
       " 1,\n",
       " 1,\n",
       " 2,\n",
       " 1,\n",
       " 2,\n",
       " 2,\n",
       " 1,\n",
       " 1,\n",
       " 1,\n",
       " 1,\n",
       " 1,\n",
       " 1,\n",
       " 2,\n",
       " 1,\n",
       " 2,\n",
       " 1,\n",
       " 2,\n",
       " 1,\n",
       " 1,\n",
       " 1,\n",
       " 1,\n",
       " 2,\n",
       " 1,\n",
       " 1,\n",
       " 2,\n",
       " 1,\n",
       " 1,\n",
       " 1,\n",
       " 1,\n",
       " 2,\n",
       " 1,\n",
       " 2,\n",
       " 1,\n",
       " 2,\n",
       " 2,\n",
       " 1,\n",
       " 2,\n",
       " 1,\n",
       " 2,\n",
       " 1,\n",
       " 2,\n",
       " 2,\n",
       " 1,\n",
       " 2,\n",
       " 2,\n",
       " 2,\n",
       " 1,\n",
       " 2,\n",
       " 2,\n",
       " 1,\n",
       " 1,\n",
       " 1,\n",
       " 2,\n",
       " 1,\n",
       " 1,\n",
       " 1,\n",
       " 1,\n",
       " 1,\n",
       " 2,\n",
       " 2,\n",
       " 1,\n",
       " 1,\n",
       " 2,\n",
       " 1,\n",
       " 1,\n",
       " 1,\n",
       " 1,\n",
       " 1,\n",
       " 2,\n",
       " 2,\n",
       " 2,\n",
       " 1,\n",
       " 2,\n",
       " 2,\n",
       " 1,\n",
       " 1,\n",
       " 2,\n",
       " 1,\n",
       " 1,\n",
       " 1,\n",
       " 2,\n",
       " 2,\n",
       " 1,\n",
       " 1,\n",
       " 1,\n",
       " 1,\n",
       " 1,\n",
       " 1,\n",
       " 1,\n",
       " 1,\n",
       " 2,\n",
       " 1,\n",
       " 1,\n",
       " 1,\n",
       " 1,\n",
       " 1,\n",
       " 1,\n",
       " 1,\n",
       " 2,\n",
       " 2,\n",
       " 1,\n",
       " 1,\n",
       " 1,\n",
       " 1,\n",
       " 1,\n",
       " 1,\n",
       " 2,\n",
       " 1,\n",
       " 1,\n",
       " 1,\n",
       " 2,\n",
       " 1,\n",
       " 2,\n",
       " 1,\n",
       " 2,\n",
       " 1,\n",
       " 1,\n",
       " 1,\n",
       " 1,\n",
       " 1,\n",
       " 1,\n",
       " 1,\n",
       " 2,\n",
       " 2,\n",
       " 1,\n",
       " 1,\n",
       " 1,\n",
       " 1,\n",
       " 2,\n",
       " 2,\n",
       " 1,\n",
       " 1,\n",
       " 1,\n",
       " 1,\n",
       " 2,\n",
       " 1,\n",
       " 2,\n",
       " 1,\n",
       " 2,\n",
       " 1,\n",
       " 2,\n",
       " 2,\n",
       " 1,\n",
       " 2,\n",
       " 2,\n",
       " 1,\n",
       " 1,\n",
       " 1,\n",
       " 1,\n",
       " 2,\n",
       " 1,\n",
       " 2,\n",
       " 1,\n",
       " 2,\n",
       " 2,\n",
       " 2,\n",
       " 2,\n",
       " 1,\n",
       " 1,\n",
       " 2,\n",
       " 1,\n",
       " 1,\n",
       " 2,\n",
       " 1,\n",
       " 1,\n",
       " 1,\n",
       " 1,\n",
       " 1,\n",
       " 2,\n",
       " 1,\n",
       " 1,\n",
       " 1,\n",
       " 1,\n",
       " 2,\n",
       " 1,\n",
       " 1,\n",
       " 1,\n",
       " 1,\n",
       " 2,\n",
       " 1,\n",
       " 2,\n",
       " 2,\n",
       " 2,\n",
       " 2,\n",
       " 1,\n",
       " 2,\n",
       " 2,\n",
       " 1,\n",
       " 2,\n",
       " 2,\n",
       " 1,\n",
       " 1,\n",
       " 2,\n",
       " 1,\n",
       " 2,\n",
       " 1,\n",
       " 1,\n",
       " 1,\n",
       " 1,\n",
       " 1,\n",
       " 1,\n",
       " 1,\n",
       " 1,\n",
       " 1,\n",
       " 1,\n",
       " 2,\n",
       " 1,\n",
       " 2,\n",
       " 2,\n",
       " 1,\n",
       " 1,\n",
       " 1,\n",
       " 1,\n",
       " 1,\n",
       " 2,\n",
       " 1,\n",
       " 1,\n",
       " 1,\n",
       " 1,\n",
       " 1,\n",
       " 1,\n",
       " 2,\n",
       " 1,\n",
       " 1,\n",
       " 1,\n",
       " 2,\n",
       " 1,\n",
       " 2,\n",
       " 1,\n",
       " 1,\n",
       " 1,\n",
       " 1,\n",
       " 2,\n",
       " 1,\n",
       " 1,\n",
       " 1,\n",
       " 2,\n",
       " 1,\n",
       " 1,\n",
       " 1,\n",
       " 1,\n",
       " 1,\n",
       " 2,\n",
       " 1,\n",
       " 1,\n",
       " 2,\n",
       " 1,\n",
       " 1,\n",
       " 2,\n",
       " 2,\n",
       " 2,\n",
       " 2,\n",
       " 2,\n",
       " 1,\n",
       " 1,\n",
       " 2,\n",
       " 2,\n",
       " 1,\n",
       " 1,\n",
       " 1,\n",
       " 2,\n",
       " 1,\n",
       " 2,\n",
       " 1,\n",
       " 1,\n",
       " 1,\n",
       " 2,\n",
       " 1,\n",
       " 1,\n",
       " 2,\n",
       " 1,\n",
       " 1,\n",
       " 1,\n",
       " 1,\n",
       " 1,\n",
       " 2,\n",
       " 1,\n",
       " 1,\n",
       " 2,\n",
       " 1,\n",
       " 2,\n",
       " 2,\n",
       " 1,\n",
       " 1,\n",
       " 1,\n",
       " 1,\n",
       " 2,\n",
       " 2,\n",
       " 2,\n",
       " 1,\n",
       " 2,\n",
       " 2,\n",
       " 1,\n",
       " 2,\n",
       " 2,\n",
       " 1,\n",
       " 1,\n",
       " 2,\n",
       " 2,\n",
       " 1,\n",
       " 1,\n",
       " 1,\n",
       " 1,\n",
       " 1,\n",
       " 2,\n",
       " 1,\n",
       " 1,\n",
       " 1,\n",
       " 1,\n",
       " 1,\n",
       " 2,\n",
       " 1,\n",
       " 1,\n",
       " 1,\n",
       " 1,\n",
       " 1,\n",
       " 1,\n",
       " 1,\n",
       " 2,\n",
       " 1,\n",
       " 1,\n",
       " 1,\n",
       " 1,\n",
       " 1,\n",
       " 1,\n",
       " 2,\n",
       " 1,\n",
       " 1,\n",
       " 2,\n",
       " 1,\n",
       " 1,\n",
       " 2,\n",
       " 2,\n",
       " 1,\n",
       " 1,\n",
       " 1,\n",
       " 1,\n",
       " 1,\n",
       " 1,\n",
       " 1,\n",
       " 1,\n",
       " 2,\n",
       " 1,\n",
       " 2,\n",
       " 1,\n",
       " 2,\n",
       " 1,\n",
       " 1,\n",
       " 1,\n",
       " 1,\n",
       " 2,\n",
       " 1,\n",
       " 1]"
      ]
     },
     "execution_count": 46,
     "metadata": {},
     "output_type": "execute_result"
    }
   ],
   "source": [
    "outlier = []\n",
    "for x in df_cym['EaseofUse']:\n",
    "    if((x>upper)or(x<low)):\n",
    "        outlier.append(x)\n",
    "outlier"
   ]
  },
  {
   "cell_type": "code",
   "execution_count": 47,
   "id": "94333bd2",
   "metadata": {},
   "outputs": [],
   "source": [
    "df_cym=df_cym.drop(df_cym.loc[df_cym[\"EaseofUse\"]<low].index)\n",
    "df_cym=df_cym.drop(df_cym.loc[df_cym[\"EaseofUse\"]>upper].index)"
   ]
  },
  {
   "cell_type": "code",
   "execution_count": 48,
   "id": "b5c65974",
   "metadata": {},
   "outputs": [
    {
     "data": {
      "text/plain": [
       "{'whiskers': [<matplotlib.lines.Line2D at 0x2cc2ac9ca90>,\n",
       "  <matplotlib.lines.Line2D at 0x2cc2ac9cdf0>],\n",
       " 'caps': [<matplotlib.lines.Line2D at 0x2cc2acaa190>,\n",
       "  <matplotlib.lines.Line2D at 0x2cc2acaa4f0>],\n",
       " 'boxes': [<matplotlib.lines.Line2D at 0x2cc2ac9c730>],\n",
       " 'medians': [<matplotlib.lines.Line2D at 0x2cc2acaa850>],\n",
       " 'fliers': [<matplotlib.lines.Line2D at 0x2cc2acaabb0>],\n",
       " 'means': []}"
      ]
     },
     "execution_count": 48,
     "metadata": {},
     "output_type": "execute_result"
    },
    {
     "data": {
      "image/png": "[encoded data removed]",
      "text/plain": [
       "<Figure size 864x432 with 1 Axes>"
      ]
     },
     "metadata": {},
     "output_type": "display_data"
    }
   ],
   "source": [
    "plt.boxplot(df_cym[\"EaseofUse\"])"
   ]
  },
  {
   "cell_type": "code",
   "execution_count": 49,
   "id": "b74fc7cf",
   "metadata": {},
   "outputs": [
    {
     "data": {
      "text/plain": [
       "(3621, 11)"
      ]
     },
     "execution_count": 49,
     "metadata": {},
     "output_type": "execute_result"
    }
   ],
   "source": [
    "df_cym.shape"
   ]
  },
  {
   "cell_type": "code",
   "execution_count": 50,
   "id": "900346a1",
   "metadata": {},
   "outputs": [],
   "source": [
    "#adding index column\n",
    "list2=list(range(3621))\n",
    "df_cym=df_cym.set_index([list2])"
   ]
  },
  {
   "cell_type": "code",
   "execution_count": 51,
   "id": "b57450bd",
   "metadata": {},
   "outputs": [
    {
     "data": {
      "text/html": [
       "<div>\n",
       "<style scoped>\n",
       "    .dataframe tbody tr th:only-of-type {\n",
       "        vertical-align: middle;\n",
       "    }\n",
       "\n",
       "    .dataframe tbody tr th {\n",
       "        vertical-align: top;\n",
       "    }\n",
       "\n",
       "    .dataframe thead th {\n",
       "        text-align: right;\n",
       "    }\n",
       "</style>\n",
       "<table border=\"1\" class=\"dataframe\">\n",
       "  <thead>\n",
       "    <tr style=\"text-align: right;\">\n",
       "      <th></th>\n",
       "      <th>Age</th>\n",
       "      <th>Condition</th>\n",
       "      <th>Date</th>\n",
       "      <th>Drug</th>\n",
       "      <th>DrugId</th>\n",
       "      <th>EaseofUse</th>\n",
       "      <th>Effectiveness</th>\n",
       "      <th>Satisfaction</th>\n",
       "      <th>Sex</th>\n",
       "      <th>Sides</th>\n",
       "      <th>UsefulCount</th>\n",
       "    </tr>\n",
       "  </thead>\n",
       "  <tbody>\n",
       "    <tr>\n",
       "      <th>0</th>\n",
       "      <td>45-54</td>\n",
       "      <td>Repeated Episodes of Anxiety</td>\n",
       "      <td>1/13/2020</td>\n",
       "      <td>cymbalta</td>\n",
       "      <td>91491</td>\n",
       "      <td>3</td>\n",
       "      <td>1</td>\n",
       "      <td>1</td>\n",
       "      <td>Male</td>\n",
       "      <td>Nausea ,  dry mouth ,  constipation , loss of ...</td>\n",
       "      <td>0</td>\n",
       "    </tr>\n",
       "    <tr>\n",
       "      <th>1</th>\n",
       "      <td>35-44</td>\n",
       "      <td>Anxiousness associated with Depression</td>\n",
       "      <td>12/6/2019</td>\n",
       "      <td>cymbalta</td>\n",
       "      <td>91491</td>\n",
       "      <td>3</td>\n",
       "      <td>3</td>\n",
       "      <td>2</td>\n",
       "      <td>Female</td>\n",
       "      <td>Nausea ,  dry mouth ,  constipation , loss of ...</td>\n",
       "      <td>0</td>\n",
       "    </tr>\n",
       "    <tr>\n",
       "      <th>2</th>\n",
       "      <td>45-54</td>\n",
       "      <td>Chronic Muscle or Bone Pain</td>\n",
       "      <td>11/9/2019</td>\n",
       "      <td>cymbalta</td>\n",
       "      <td>91491</td>\n",
       "      <td>5</td>\n",
       "      <td>4</td>\n",
       "      <td>4</td>\n",
       "      <td>Female</td>\n",
       "      <td>Nausea ,  dry mouth ,  constipation , loss of ...</td>\n",
       "      <td>0</td>\n",
       "    </tr>\n",
       "    <tr>\n",
       "      <th>3</th>\n",
       "      <td>55-64</td>\n",
       "      <td>Chronic Muscle or Bone Pain</td>\n",
       "      <td>9/18/2019</td>\n",
       "      <td>cymbalta</td>\n",
       "      <td>91491</td>\n",
       "      <td>5</td>\n",
       "      <td>4</td>\n",
       "      <td>4</td>\n",
       "      <td>Male</td>\n",
       "      <td>Nausea ,  dry mouth ,  constipation , loss of ...</td>\n",
       "      <td>0</td>\n",
       "    </tr>\n",
       "    <tr>\n",
       "      <th>4</th>\n",
       "      <td>75 or over</td>\n",
       "      <td>Chronic Muscle or Bone Pain</td>\n",
       "      <td>8/13/2019</td>\n",
       "      <td>cymbalta</td>\n",
       "      <td>91491</td>\n",
       "      <td>5</td>\n",
       "      <td>5</td>\n",
       "      <td>5</td>\n",
       "      <td>Female</td>\n",
       "      <td>Nausea ,  dry mouth ,  constipation , loss of ...</td>\n",
       "      <td>1</td>\n",
       "    </tr>\n",
       "  </tbody>\n",
       "</table>\n",
       "</div>"
      ],
      "text/plain": [
       "          Age                               Condition       Date      Drug  \\\n",
       "0       45-54            Repeated Episodes of Anxiety  1/13/2020  cymbalta   \n",
       "1       35-44  Anxiousness associated with Depression  12/6/2019  cymbalta   \n",
       "2       45-54             Chronic Muscle or Bone Pain  11/9/2019  cymbalta   \n",
       "3       55-64             Chronic Muscle or Bone Pain  9/18/2019  cymbalta   \n",
       "4  75 or over             Chronic Muscle or Bone Pain  8/13/2019  cymbalta   \n",
       "\n",
       "   DrugId  EaseofUse  Effectiveness  Satisfaction     Sex  \\\n",
       "0   91491          3              1             1    Male   \n",
       "1   91491          3              3             2  Female   \n",
       "2   91491          5              4             4  Female   \n",
       "3   91491          5              4             4    Male   \n",
       "4   91491          5              5             5  Female   \n",
       "\n",
       "                                               Sides  UsefulCount  \n",
       "0  Nausea ,  dry mouth ,  constipation , loss of ...            0  \n",
       "1  Nausea ,  dry mouth ,  constipation , loss of ...            0  \n",
       "2  Nausea ,  dry mouth ,  constipation , loss of ...            0  \n",
       "3  Nausea ,  dry mouth ,  constipation , loss of ...            0  \n",
       "4  Nausea ,  dry mouth ,  constipation , loss of ...            1  "
      ]
     },
     "execution_count": 51,
     "metadata": {},
     "output_type": "execute_result"
    }
   ],
   "source": [
    "df_cym.head()"
   ]
  },
  {
   "cell_type": "markdown",
   "id": "8ddca785",
   "metadata": {},
   "source": [
    "# Encoding"
   ]
  },
  {
   "cell_type": "code",
   "execution_count": 52,
   "id": "7027ed50",
   "metadata": {},
   "outputs": [],
   "source": [
    "# On the basis of 'Satisfaction' let us recode the values of 'Effectiveness' to  categorical values ranging from 1 to 5.\n",
    "df_cym['Effectiveness'].replace(to_replace = [1], value =['extreme severe side effects'], inplace = True)\n",
    "df_cym['Effectiveness'].replace(to_replace = [2], value =['severe side effects'], inplace = True)\n",
    "df_cym['Effectiveness'].replace(to_replace = [3], value =['moderate side effects'], inplace = True)\n",
    "df_cym['Effectiveness'].replace(to_replace = [4], value =['mild side effects'], inplace = True)\n",
    "df_cym['Effectiveness'].replace(to_replace = [5], value =['no side effects'], inplace = True)"
   ]
  },
  {
   "cell_type": "code",
   "execution_count": 53,
   "id": "db1da458",
   "metadata": {},
   "outputs": [
    {
     "data": {
      "text/html": [
       "<div>\n",
       "<style scoped>\n",
       "    .dataframe tbody tr th:only-of-type {\n",
       "        vertical-align: middle;\n",
       "    }\n",
       "\n",
       "    .dataframe tbody tr th {\n",
       "        vertical-align: top;\n",
       "    }\n",
       "\n",
       "    .dataframe thead th {\n",
       "        text-align: right;\n",
       "    }\n",
       "</style>\n",
       "<table border=\"1\" class=\"dataframe\">\n",
       "  <thead>\n",
       "    <tr style=\"text-align: right;\">\n",
       "      <th></th>\n",
       "      <th>Age</th>\n",
       "      <th>Condition</th>\n",
       "      <th>Date</th>\n",
       "      <th>Drug</th>\n",
       "      <th>DrugId</th>\n",
       "      <th>EaseofUse</th>\n",
       "      <th>Effectiveness</th>\n",
       "      <th>Satisfaction</th>\n",
       "      <th>Sex</th>\n",
       "      <th>Sides</th>\n",
       "      <th>UsefulCount</th>\n",
       "    </tr>\n",
       "  </thead>\n",
       "  <tbody>\n",
       "    <tr>\n",
       "      <th>0</th>\n",
       "      <td>45-54</td>\n",
       "      <td>Repeated Episodes of Anxiety</td>\n",
       "      <td>1/13/2020</td>\n",
       "      <td>cymbalta</td>\n",
       "      <td>91491</td>\n",
       "      <td>3</td>\n",
       "      <td>extreme severe side effects</td>\n",
       "      <td>1</td>\n",
       "      <td>Male</td>\n",
       "      <td>Nausea ,  dry mouth ,  constipation , loss of ...</td>\n",
       "      <td>0</td>\n",
       "    </tr>\n",
       "    <tr>\n",
       "      <th>1</th>\n",
       "      <td>35-44</td>\n",
       "      <td>Anxiousness associated with Depression</td>\n",
       "      <td>12/6/2019</td>\n",
       "      <td>cymbalta</td>\n",
       "      <td>91491</td>\n",
       "      <td>3</td>\n",
       "      <td>moderate side effects</td>\n",
       "      <td>2</td>\n",
       "      <td>Female</td>\n",
       "      <td>Nausea ,  dry mouth ,  constipation , loss of ...</td>\n",
       "      <td>0</td>\n",
       "    </tr>\n",
       "    <tr>\n",
       "      <th>2</th>\n",
       "      <td>45-54</td>\n",
       "      <td>Chronic Muscle or Bone Pain</td>\n",
       "      <td>11/9/2019</td>\n",
       "      <td>cymbalta</td>\n",
       "      <td>91491</td>\n",
       "      <td>5</td>\n",
       "      <td>mild side effects</td>\n",
       "      <td>4</td>\n",
       "      <td>Female</td>\n",
       "      <td>Nausea ,  dry mouth ,  constipation , loss of ...</td>\n",
       "      <td>0</td>\n",
       "    </tr>\n",
       "    <tr>\n",
       "      <th>3</th>\n",
       "      <td>55-64</td>\n",
       "      <td>Chronic Muscle or Bone Pain</td>\n",
       "      <td>9/18/2019</td>\n",
       "      <td>cymbalta</td>\n",
       "      <td>91491</td>\n",
       "      <td>5</td>\n",
       "      <td>mild side effects</td>\n",
       "      <td>4</td>\n",
       "      <td>Male</td>\n",
       "      <td>Nausea ,  dry mouth ,  constipation , loss of ...</td>\n",
       "      <td>0</td>\n",
       "    </tr>\n",
       "    <tr>\n",
       "      <th>4</th>\n",
       "      <td>75 or over</td>\n",
       "      <td>Chronic Muscle or Bone Pain</td>\n",
       "      <td>8/13/2019</td>\n",
       "      <td>cymbalta</td>\n",
       "      <td>91491</td>\n",
       "      <td>5</td>\n",
       "      <td>no side effects</td>\n",
       "      <td>5</td>\n",
       "      <td>Female</td>\n",
       "      <td>Nausea ,  dry mouth ,  constipation , loss of ...</td>\n",
       "      <td>1</td>\n",
       "    </tr>\n",
       "  </tbody>\n",
       "</table>\n",
       "</div>"
      ],
      "text/plain": [
       "          Age                               Condition       Date      Drug  \\\n",
       "0       45-54            Repeated Episodes of Anxiety  1/13/2020  cymbalta   \n",
       "1       35-44  Anxiousness associated with Depression  12/6/2019  cymbalta   \n",
       "2       45-54             Chronic Muscle or Bone Pain  11/9/2019  cymbalta   \n",
       "3       55-64             Chronic Muscle or Bone Pain  9/18/2019  cymbalta   \n",
       "4  75 or over             Chronic Muscle or Bone Pain  8/13/2019  cymbalta   \n",
       "\n",
       "   DrugId  EaseofUse                Effectiveness  Satisfaction     Sex  \\\n",
       "0   91491          3  extreme severe side effects             1    Male   \n",
       "1   91491          3        moderate side effects             2  Female   \n",
       "2   91491          5            mild side effects             4  Female   \n",
       "3   91491          5            mild side effects             4    Male   \n",
       "4   91491          5              no side effects             5  Female   \n",
       "\n",
       "                                               Sides  UsefulCount  \n",
       "0  Nausea ,  dry mouth ,  constipation , loss of ...            0  \n",
       "1  Nausea ,  dry mouth ,  constipation , loss of ...            0  \n",
       "2  Nausea ,  dry mouth ,  constipation , loss of ...            0  \n",
       "3  Nausea ,  dry mouth ,  constipation , loss of ...            0  \n",
       "4  Nausea ,  dry mouth ,  constipation , loss of ...            1  "
      ]
     },
     "execution_count": 53,
     "metadata": {},
     "output_type": "execute_result"
    }
   ],
   "source": [
    "df_cym.head()"
   ]
  },
  {
   "cell_type": "markdown",
   "id": "1e5007d1",
   "metadata": {},
   "source": [
    "# Visualizations"
   ]
  },
  {
   "cell_type": "code",
   "execution_count": 54,
   "id": "808a96c0",
   "metadata": {},
   "outputs": [
    {
     "name": "stdout",
     "output_type": "stream",
     "text": [
      "6846\n",
      "1754\n"
     ]
    }
   ],
   "source": [
    "#check number of unique values in drug and condition\n",
    "print(df['Drug'].nunique())\n",
    "print(df['Condition'].nunique())"
   ]
  },
  {
   "cell_type": "markdown",
   "id": "8fa6d219",
   "metadata": {},
   "source": [
    "We can see that there are 7093 drugs and only 1806 conditions. So there are conditions which has multiple drugs"
   ]
  },
  {
   "cell_type": "code",
   "execution_count": 55,
   "id": "08501470",
   "metadata": {},
   "outputs": [
    {
     "data": {
      "image/png": "[encoded data removed]",
      "text/plain": [
       "<Figure size 1440x720 with 1 Axes>"
      ]
     },
     "metadata": {},
     "output_type": "display_data"
    }
   ],
   "source": [
    "#plot a bargraph to check top 20 conditions\n",
    "df['Condition'].value_counts().nlargest(20).plot(kind='bar',figsize=(20,10))\n",
    "plt.title(\"Top 20 Most popular conditions based on counts\")\n",
    "plt.show()"
   ]
  },
  {
   "cell_type": "markdown",
   "id": "b3dcd7af",
   "metadata": {},
   "source": [
    "From the graph\n",
    "\n",
    "    The top most condition is 'other' than listed conditions.\n",
    "    The unlisted condition i.e, 'Other' comes around 50000 and above.\n",
    "    other than top one condition pain and high blood pressure conditions uses more medicine.\n",
    "\n"
   ]
  },
  {
   "cell_type": "code",
   "execution_count": 56,
   "id": "73c9fa89",
   "metadata": {},
   "outputs": [
    {
     "data": {
      "image/png": "[encoded data removed]",
      "text/plain": [
       "<Figure size 864x432 with 1 Axes>"
      ]
     },
     "metadata": {},
     "output_type": "display_data"
    }
   ],
   "source": [
    "#plot a distribution plot of useful Count\n",
    "sns.distplot(df['UsefulCount'])\n",
    "plt.show()"
   ]
  },
  {
   "cell_type": "markdown",
   "id": "ce575d25",
   "metadata": {},
   "source": [
    "From the above plot\n",
    "\n",
    "    usefulCount is positively-skewed.\n",
    "    Most of the usefulCounts are distributed between 0 and 50.\n",
    "    There are extreme outliers present in our usefulCounts"
   ]
  },
  {
   "cell_type": "code",
   "execution_count": 57,
   "id": "a9d459d5",
   "metadata": {},
   "outputs": [
    {
     "data": {
      "text/plain": [
       "Condition\n",
       "Other                                         4324\n",
       "Osteoporosis                                   228\n",
       "Birth Control                                  201\n",
       "High Blood Pressure                            199\n",
       "Pain                                           198\n",
       "Acne                                           185\n",
       "Painful Periods                                156\n",
       "Rheumatoid Arthritis                           144\n",
       "Cough                                          131\n",
       "Cold Symptoms                                  120\n",
       "Inflammation of the Nose due to an Allergy     117\n",
       "Type 2 Diabetes Mellitus                       113\n",
       "Abnormally Long or Heavy Periods               110\n",
       "Stuffy Nose                                    105\n",
       "Incomplete or Infrequent Bowel Movements       105\n",
       "Disease of Ovaries with Cysts                  102\n",
       "Allergic Conjunctivitis                         95\n",
       "Migraine Headache                               94\n",
       "\"Change of Life\" Signs                          91\n",
       "Atopic Dermatitis                               90\n",
       "Name: Drug, dtype: int64"
      ]
     },
     "execution_count": 57,
     "metadata": {},
     "output_type": "execute_result"
    }
   ],
   "source": [
    "#check the number of drugs per conditions\n",
    "df.groupby('Condition')['Drug'].nunique().sort_values(ascending=False).head(20)"
   ]
  },
  {
   "cell_type": "markdown",
   "id": "d4586525",
   "metadata": {},
   "source": [
    "It might be possible that the user didn't mentioned his/her condition as sometimes people doesn't want to reveal thier disorders. We can look up the drug names and fill up the conditions for which that drug is used"
   ]
  },
  {
   "cell_type": "code",
   "execution_count": 58,
   "id": "674d8699",
   "metadata": {},
   "outputs": [
    {
     "name": "stdout",
     "output_type": "stream",
     "text": [
      "Number of other conditions :  47662\n",
      "Total percent of noisy data 14.17385589427449 %  \n"
     ]
    }
   ],
   "source": [
    "#check the percentage of 'other' conditions\n",
    "other_con =df[df['Condition'] == 'Other']\n",
    "print('Number of other conditions : ', len(other_con))\n",
    "percent_other_con = 100 * len(other_con)/df.shape[0]\n",
    "print('Total percent of noisy data {} %  '.format(percent_other_con))"
   ]
  },
  {
   "cell_type": "markdown",
   "id": "89165b8a",
   "metadata": {},
   "source": [
    "There are 47662 unique drugs for conditions mentioned as 'other'.Here present 14% of noisy data. we can drop it"
   ]
  },
  {
   "cell_type": "code",
   "execution_count": 59,
   "id": "47ddec59",
   "metadata": {},
   "outputs": [],
   "source": [
    "# drop noisy data\n",
    "df.drop(other_con.index, axis = 0, inplace=True)"
   ]
  },
  {
   "cell_type": "code",
   "execution_count": 60,
   "id": "7d930839",
   "metadata": {},
   "outputs": [
    {
     "name": "stdout",
     "output_type": "stream",
     "text": [
      "Drug\n",
      "prednisone tablet, delayed release (enteric coated)                                89\n",
      "prednisone                                                                         89\n",
      "prednisone concentrate                                                             89\n",
      "cipro                                                                              56\n",
      "cipro suspension, microcapsule reconstituted                                       56\n",
      "methylprednisolone                                                                 49\n",
      "ciprofloxacin                                                                      45\n",
      "levaquin                                                                           44\n",
      "kenalog-40 vial                                                                    42\n",
      "doxycycline hyclate tablet, delayed release (enteric coated) antimalarial drugs    39\n",
      "Name: Condition, dtype: int64\n"
     ]
    }
   ],
   "source": [
    "#check if a single drug is used for multiple conditions\n",
    "drug_multiple_cond =df.groupby('Drug')['Condition'].nunique().sort_values(ascending=False)\n",
    "print(drug_multiple_cond.head(10))"
   ]
  },
  {
   "cell_type": "markdown",
   "id": "7b6f7e82",
   "metadata": {},
   "source": [
    "There are many drugs which can be used for multiple conditions."
   ]
  },
  {
   "cell_type": "code",
   "execution_count": 61,
   "id": "0c3bc2a5",
   "metadata": {},
   "outputs": [
    {
     "data": {
      "image/png": "[encoded data removed]",
      "text/plain": [
       "<Figure size 576x288 with 1 Axes>"
      ]
     },
     "metadata": {},
     "output_type": "display_data"
    }
   ],
   "source": [
    "#gender distribution\n",
    "data1 = df['Sex'].tolist()\n",
    "male=data1.count('Male')\n",
    "female=data1.count('Female')\n",
    "ax = df.Sex.value_counts().plot.pie(subplots = True,figsize = (8,4), title = \"Gender Distribution\")"
   ]
  },
  {
   "cell_type": "code",
   "execution_count": 62,
   "id": "537ef432",
   "metadata": {},
   "outputs": [
    {
     "data": {
      "image/png": "[encoded data removed]",
      "text/plain": [
       "<Figure size 720x360 with 1 Axes>"
      ]
     },
     "metadata": {},
     "output_type": "display_data"
    }
   ],
   "source": [
    "#age distribution\n",
    "ageColourful = df['Age'].value_counts().reset_index()\n",
    "ageColourful.columns = [\"Values\", \"Age\"]\n",
    "ageColourful\n",
    "# set style\n",
    "sns.set_style(\"whitegrid\");\n",
    "plt.figure(figsize = (10,5));\n",
    "sns.barplot(x = 'Values',y ='Age', data = ageColourful);\n",
    "plt.show();"
   ]
  },
  {
   "cell_type": "code",
   "execution_count": 63,
   "id": "d29f77fc",
   "metadata": {},
   "outputs": [
    {
     "data": {
      "image/png": "[encoded data removed]",
      "text/plain": [
       "<Figure size 720x360 with 1 Axes>"
      ]
     },
     "metadata": {},
     "output_type": "display_data"
    }
   ],
   "source": [
    "#ease of use distribution\n",
    "easeOfUseRatingColourful = df['EaseofUse'].value_counts().reset_index()\n",
    "easeOfUseRatingColourful.columns = [\"Values\", \"EaseofUse\"]\n",
    "easeOfUseRatingColourful\n",
    "# set style\n",
    "sns.set_style(\"whitegrid\");\n",
    "plt.figure(figsize = (10,5));\n",
    "sns.barplot(x = 'Values',y = \"EaseofUse\", data = easeOfUseRatingColourful);"
   ]
  },
  {
   "cell_type": "code",
   "execution_count": 64,
   "id": "04808707",
   "metadata": {},
   "outputs": [
    {
     "data": {
      "text/plain": [
       "<Figure size 720x1080 with 0 Axes>"
      ]
     },
     "metadata": {},
     "output_type": "display_data"
    },
    {
     "data": {
      "image/png": "[encoded data removed]",
      "text/plain": [
       "<Figure size 777.6x432 with 2 Axes>"
      ]
     },
     "metadata": {},
     "output_type": "display_data"
    }
   ],
   "source": [
    "# Catplot of Satisfaction with respect to Sex\n",
    "plt.figure(figsize=(10,15))\n",
    "g = sns.catplot(x=\"Satisfaction\",col=\"Sex\",\n",
    "                data=df, kind=\"count\",\n",
    "                height=6,aspect =.9);"
   ]
  },
  {
   "cell_type": "code",
   "execution_count": 65,
   "id": "e0bc7bd2",
   "metadata": {},
   "outputs": [
    {
     "data": {
      "image/png": "[encoded data removed]",
      "text/plain": [
       "<Figure size 1368x504 with 1 Axes>"
      ]
     },
     "metadata": {},
     "output_type": "display_data"
    }
   ],
   "source": [
    "# checking the different types of conditions in patients\n",
    "df['Condition'].value_counts().head(10).plot.bar(figsize = (19, 7), color = 'purple')\n",
    "plt.title('Most Common Conditions in the Patients', fontsize = 30)\n",
    "plt.xlabel('Conditions', fontsize = 20)\n",
    "plt.ylabel('count')\n",
    "plt.xticks(rotation=45);\n",
    "plt.show()"
   ]
  },
  {
   "cell_type": "markdown",
   "id": "162c9cb6",
   "metadata": {},
   "source": [
    "# Effect of drug on age group 45-54 (which is mostly affected among the age group)"
   ]
  },
  {
   "cell_type": "markdown",
   "id": "2988acd0",
   "metadata": {},
   "source": [
    "Feature engineering"
   ]
  },
  {
   "cell_type": "code",
   "execution_count": 66,
   "id": "c2eaacd3",
   "metadata": {},
   "outputs": [],
   "source": [
    "dt=df_cym.loc[(df_cym['Age']==\"45-54\")]"
   ]
  },
  {
   "cell_type": "code",
   "execution_count": 67,
   "id": "214966f1",
   "metadata": {},
   "outputs": [
    {
     "data": {
      "text/plain": [
       "0.0    2505\n",
       "1.0    1116\n",
       "Name: Review_Sentiment, dtype: int64"
      ]
     },
     "execution_count": 67,
     "metadata": {},
     "output_type": "execute_result"
    }
   ],
   "source": [
    "# let's make a new column review sentiment \n",
    "df_cym.loc[(df_cym['Satisfaction'] >= 5), 'Review_Sentiment'] = 1\n",
    "df_cym.loc[(df_cym['Satisfaction'] <5), 'Review_Sentiment'] = 0\n",
    "\n",
    "df_cym['Review_Sentiment'].value_counts()"
   ]
  },
  {
   "cell_type": "code",
   "execution_count": 68,
   "id": "26ce04c1",
   "metadata": {},
   "outputs": [],
   "source": [
    "df_cym=df_cym.drop(['Date','Drug','DrugId','Sides'],axis=1)"
   ]
  },
  {
   "cell_type": "code",
   "execution_count": 69,
   "id": "caec0c37",
   "metadata": {},
   "outputs": [
    {
     "data": {
      "text/plain": [
       "(3621, 8)"
      ]
     },
     "execution_count": 69,
     "metadata": {},
     "output_type": "execute_result"
    }
   ],
   "source": [
    "df_cym.shape"
   ]
  },
  {
   "cell_type": "markdown",
   "id": "d3a53e8a",
   "metadata": {},
   "source": [
    "# Label encoding"
   ]
  },
  {
   "cell_type": "code",
   "execution_count": 70,
   "id": "24c0f52c",
   "metadata": {},
   "outputs": [],
   "source": [
    "from sklearn.preprocessing import LabelEncoder\n",
    "label=LabelEncoder()\n",
    "for col in [\"Age\",\"Condition\",\"Sex\"]:\n",
    "    df_cym[col]=label.fit_transform(df_cym[col])\n",
    "    \n",
    "datastand=df_cym"
   ]
  },
  {
   "cell_type": "code",
   "execution_count": 71,
   "id": "09cb7a83",
   "metadata": {},
   "outputs": [
    {
     "data": {
      "text/html": [
       "<div>\n",
       "<style scoped>\n",
       "    .dataframe tbody tr th:only-of-type {\n",
       "        vertical-align: middle;\n",
       "    }\n",
       "\n",
       "    .dataframe tbody tr th {\n",
       "        vertical-align: top;\n",
       "    }\n",
       "\n",
       "    .dataframe thead th {\n",
       "        text-align: right;\n",
       "    }\n",
       "</style>\n",
       "<table border=\"1\" class=\"dataframe\">\n",
       "  <thead>\n",
       "    <tr style=\"text-align: right;\">\n",
       "      <th></th>\n",
       "      <th>Age</th>\n",
       "      <th>Condition</th>\n",
       "      <th>EaseofUse</th>\n",
       "      <th>Effectiveness</th>\n",
       "      <th>Satisfaction</th>\n",
       "      <th>Sex</th>\n",
       "      <th>UsefulCount</th>\n",
       "      <th>Review_Sentiment</th>\n",
       "    </tr>\n",
       "  </thead>\n",
       "  <tbody>\n",
       "    <tr>\n",
       "      <th>0</th>\n",
       "      <td>6</td>\n",
       "      <td>7</td>\n",
       "      <td>3</td>\n",
       "      <td>extreme severe side effects</td>\n",
       "      <td>1</td>\n",
       "      <td>1</td>\n",
       "      <td>0</td>\n",
       "      <td>0.0</td>\n",
       "    </tr>\n",
       "    <tr>\n",
       "      <th>1</th>\n",
       "      <td>5</td>\n",
       "      <td>0</td>\n",
       "      <td>3</td>\n",
       "      <td>moderate side effects</td>\n",
       "      <td>2</td>\n",
       "      <td>0</td>\n",
       "      <td>0</td>\n",
       "      <td>0.0</td>\n",
       "    </tr>\n",
       "    <tr>\n",
       "      <th>2</th>\n",
       "      <td>6</td>\n",
       "      <td>1</td>\n",
       "      <td>5</td>\n",
       "      <td>mild side effects</td>\n",
       "      <td>4</td>\n",
       "      <td>0</td>\n",
       "      <td>0</td>\n",
       "      <td>0.0</td>\n",
       "    </tr>\n",
       "    <tr>\n",
       "      <th>3</th>\n",
       "      <td>7</td>\n",
       "      <td>1</td>\n",
       "      <td>5</td>\n",
       "      <td>mild side effects</td>\n",
       "      <td>4</td>\n",
       "      <td>1</td>\n",
       "      <td>0</td>\n",
       "      <td>0.0</td>\n",
       "    </tr>\n",
       "    <tr>\n",
       "      <th>4</th>\n",
       "      <td>9</td>\n",
       "      <td>1</td>\n",
       "      <td>5</td>\n",
       "      <td>no side effects</td>\n",
       "      <td>5</td>\n",
       "      <td>0</td>\n",
       "      <td>1</td>\n",
       "      <td>1.0</td>\n",
       "    </tr>\n",
       "  </tbody>\n",
       "</table>\n",
       "</div>"
      ],
      "text/plain": [
       "   Age  Condition  EaseofUse                Effectiveness  Satisfaction  Sex  \\\n",
       "0    6          7          3  extreme severe side effects             1    1   \n",
       "1    5          0          3        moderate side effects             2    0   \n",
       "2    6          1          5            mild side effects             4    0   \n",
       "3    7          1          5            mild side effects             4    1   \n",
       "4    9          1          5              no side effects             5    0   \n",
       "\n",
       "   UsefulCount  Review_Sentiment  \n",
       "0            0               0.0  \n",
       "1            0               0.0  \n",
       "2            0               0.0  \n",
       "3            0               0.0  \n",
       "4            1               1.0  "
      ]
     },
     "execution_count": 71,
     "metadata": {},
     "output_type": "execute_result"
    }
   ],
   "source": [
    "df_cym.head()"
   ]
  },
  {
   "cell_type": "markdown",
   "id": "1eb315fc",
   "metadata": {},
   "source": [
    "# Data splitting"
   ]
  },
  {
   "cell_type": "code",
   "execution_count": 72,
   "id": "674a11f9",
   "metadata": {},
   "outputs": [],
   "source": [
    "y=df_cym['Effectiveness']\n",
    "x=df_cym.drop(['Effectiveness'],axis=1)\n",
    "ycopy=df_copy['Effectiveness']\n",
    "xcopy=df_copy.drop(['Effectiveness'],axis=1)"
   ]
  },
  {
   "cell_type": "code",
   "execution_count": 73,
   "id": "533c5687",
   "metadata": {},
   "outputs": [],
   "source": [
    "from sklearn.model_selection import train_test_split\n",
    "x_train,x_test,y_train,y_test=train_test_split(x,y,random_state=42,test_size=0.1)\n",
    "xcopy_train,xcopy_test,ycopy_train,ycopy_test=train_test_split(xcopy,ycopy,random_state=42,test_size=0.1)"
   ]
  },
  {
   "cell_type": "markdown",
   "id": "7b47a2c8",
   "metadata": {},
   "source": [
    "# Model Selection"
   ]
  },
  {
   "cell_type": "code",
   "execution_count": 74,
   "id": "4d399513",
   "metadata": {},
   "outputs": [],
   "source": [
    "from sklearn.metrics import accuracy_score,precision_score,f1_score,confusion_matrix\n",
    "from sklearn.metrics import classification_report"
   ]
  },
  {
   "cell_type": "markdown",
   "id": "c344d528",
   "metadata": {},
   "source": [
    "# Logistic Regression"
   ]
  },
  {
   "cell_type": "code",
   "execution_count": 75,
   "id": "2981ced1",
   "metadata": {},
   "outputs": [
    {
     "name": "stdout",
     "output_type": "stream",
     "text": [
      "                             precision    recall  f1-score   support\n",
      "\n",
      "extreme severe side effects       0.55      0.98      0.71        47\n",
      "          mild side effects       0.60      0.64      0.62       102\n",
      "      moderate side effects       0.54      0.48      0.51        71\n",
      "            no side effects       0.81      0.74      0.77       118\n",
      "        severe side effects       0.00      0.00      0.00        25\n",
      "\n",
      "                   accuracy                           0.64       363\n",
      "                  macro avg       0.50      0.57      0.52       363\n",
      "               weighted avg       0.61      0.64      0.61       363\n",
      "\n",
      "[[46  1  0  0  0]\n",
      " [ 8 65 13 16  0]\n",
      " [12 21 34  4  0]\n",
      " [ 7 21  3 87  0]\n",
      " [10  1 13  1  0]]\n",
      "accuracy is 0.6391184573002755\n"
     ]
    }
   ],
   "source": [
    "from sklearn.linear_model import LogisticRegression\n",
    "from sklearn.metrics import classification_report\n",
    "lr = LogisticRegression()\n",
    "lr.fit(x_train, y_train)\n",
    "\n",
    "y_pred = lr.predict(x_test)\n",
    "\n",
    "# Summary of the predictions made by the classifier\n",
    "print(classification_report(y_test, y_pred))\n",
    "print(confusion_matrix(y_test, y_pred))\n",
    "\n",
    "# Accuracy score\n",
    "print('accuracy is',accuracy_score(y_pred,y_test))"
   ]
  },
  {
   "cell_type": "markdown",
   "id": "e108ff9f",
   "metadata": {},
   "source": [
    "# KNeighborsClassifier"
   ]
  },
  {
   "cell_type": "code",
   "execution_count": 76,
   "id": "b66cd5c6",
   "metadata": {},
   "outputs": [],
   "source": [
    "from sklearn.neighbors import KNeighborsClassifier\n",
    "# Finding best k value\n",
    "acc_values=[]\n",
    "\n",
    "neighbors=np.arange(3,15)\n",
    "\n",
    "for k in neighbors:\n",
    "    classifier=KNeighborsClassifier(n_neighbors=k,metric='minkowski')\n",
    "    classifier.fit(x_train,y_train)\n",
    "    y_pred=classifier.predict(x_test)\n",
    "    acc=accuracy_score(y_test,y_pred)\n",
    "    acc_values.append(acc)"
   ]
  },
  {
   "cell_type": "code",
   "execution_count": 77,
   "id": "16b5a46e",
   "metadata": {},
   "outputs": [
    {
     "data": {
      "text/plain": [
       "[0.5922865013774105,\n",
       " 0.5702479338842975,\n",
       " 0.5950413223140496,\n",
       " 0.6115702479338843,\n",
       " 0.6060606060606061,\n",
       " 0.6225895316804407,\n",
       " 0.6225895316804407,\n",
       " 0.6170798898071626,\n",
       " 0.6115702479338843,\n",
       " 0.6033057851239669,\n",
       " 0.6198347107438017,\n",
       " 0.6170798898071626]"
      ]
     },
     "execution_count": 77,
     "metadata": {},
     "output_type": "execute_result"
    }
   ],
   "source": [
    "acc_values"
   ]
  },
  {
   "cell_type": "code",
   "execution_count": 78,
   "id": "7c6d6a33",
   "metadata": {},
   "outputs": [
    {
     "data": {
      "image/png": "[encoded data removed]",
      "text/plain": [
       "<Figure size 864x432 with 1 Axes>"
      ]
     },
     "metadata": {},
     "output_type": "display_data"
    }
   ],
   "source": [
    "plt.plot(neighbors,acc_values,'o-')\n",
    "plt.xlabel('K Value')\n",
    "plt.ylabel('Accuracy');"
   ]
  },
  {
   "cell_type": "code",
   "execution_count": 79,
   "id": "7017a388",
   "metadata": {},
   "outputs": [
    {
     "name": "stdout",
     "output_type": "stream",
     "text": [
      "                             precision    recall  f1-score   support\n",
      "\n",
      "extreme severe side effects       0.53      0.89      0.67        47\n",
      "          mild side effects       0.59      0.66      0.62       102\n",
      "      moderate side effects       0.49      0.41      0.45        71\n",
      "            no side effects       0.80      0.73      0.76       118\n",
      "        severe side effects       0.40      0.08      0.13        25\n",
      "\n",
      "                   accuracy                           0.62       363\n",
      "                  macro avg       0.56      0.55      0.53       363\n",
      "               weighted avg       0.62      0.62      0.61       363\n",
      "\n",
      "[[42  1  2  0  2]\n",
      " [ 6 67 12 17  0]\n",
      " [12 26 29  3  1]\n",
      " [ 8 18  6 86  0]\n",
      " [11  1 10  1  2]]\n",
      "accuracy is 0.6225895316804407\n"
     ]
    }
   ],
   "source": [
    "knn = KNeighborsClassifier(n_neighbors=9)\n",
    "knn.fit(x_train, y_train)\n",
    "\n",
    "y_pred = knn.predict(x_test)\n",
    "\n",
    "# Summary of the predictions made by the classifier\n",
    "print(classification_report(y_test, y_pred))\n",
    "print(confusion_matrix(y_test, y_pred))\n",
    "\n",
    "# Accuracy score\n",
    "\n",
    "print('accuracy is',accuracy_score(y_pred,y_test))"
   ]
  },
  {
   "cell_type": "markdown",
   "id": "5d993652",
   "metadata": {},
   "source": [
    "# GradientBoostingClassifier"
   ]
  },
  {
   "cell_type": "code",
   "execution_count": 80,
   "id": "8e0e9399",
   "metadata": {},
   "outputs": [
    {
     "name": "stdout",
     "output_type": "stream",
     "text": [
      "                             precision    recall  f1-score   support\n",
      "\n",
      "extreme severe side effects       0.55      0.96      0.70        47\n",
      "          mild side effects       0.66      0.60      0.63       102\n",
      "      moderate side effects       0.51      0.55      0.53        71\n",
      "            no side effects       0.80      0.72      0.76       118\n",
      "        severe side effects       0.00      0.00      0.00        25\n",
      "\n",
      "                   accuracy                           0.63       363\n",
      "                  macro avg       0.50      0.57      0.52       363\n",
      "               weighted avg       0.62      0.63      0.62       363\n",
      "\n",
      "[[45  0  1  0  1]\n",
      " [ 8 61 16 16  1]\n",
      " [12 13 39  4  3]\n",
      " [ 7 18  7 85  1]\n",
      " [10  1 13  1  0]]\n",
      "accuracy is 0.6336088154269972\n"
     ]
    }
   ],
   "source": [
    "from sklearn.ensemble import GradientBoostingClassifier\n",
    "gb=GradientBoostingClassifier()\n",
    "gb.fit(x_train,y_train)\n",
    "\n",
    "y_pred = gb.predict(x_test)\n",
    "\n",
    "# Summary of the predictions made by the classifier\n",
    "print(classification_report(y_test, y_pred))\n",
    "print(confusion_matrix(y_test, y_pred))\n",
    "\n",
    "# Accuracy score\n",
    "\n",
    "print('accuracy is',accuracy_score(y_pred,y_test))"
   ]
  },
  {
   "cell_type": "markdown",
   "id": "d9e6d881",
   "metadata": {},
   "source": [
    "# Bernoulli Naive Bayes"
   ]
  },
  {
   "cell_type": "code",
   "execution_count": 81,
   "id": "52b2cf05",
   "metadata": {},
   "outputs": [
    {
     "name": "stdout",
     "output_type": "stream",
     "text": [
      "                             precision    recall  f1-score   support\n",
      "\n",
      "extreme severe side effects       0.55      0.98      0.70        47\n",
      "          mild side effects       0.71      0.36      0.48       102\n",
      "      moderate side effects       0.41      0.66      0.51        71\n",
      "            no side effects       0.82      0.75      0.78       118\n",
      "        severe side effects       0.20      0.04      0.07        25\n",
      "\n",
      "                   accuracy                           0.60       363\n",
      "                  macro avg       0.54      0.56      0.51       363\n",
      "               weighted avg       0.63      0.60      0.58       363\n",
      "\n",
      "[[46  0  1  0  0]\n",
      " [ 8 37 42 14  1]\n",
      " [13  5 47  4  2]\n",
      " [ 7 10 12 88  1]\n",
      " [10  0 13  1  1]]\n"
     ]
    }
   ],
   "source": [
    "from sklearn.naive_bayes import GaussianNB\n",
    "classifier=GaussianNB()\n",
    "classifier.fit(x_train,y_train)\n",
    "y_pred= classifier.predict(x_test)\n",
    "# Summary of the predictions made by the classifier\n",
    "print(classification_report(y_test, y_pred))\n",
    "print(confusion_matrix(y_test, y_pred))"
   ]
  },
  {
   "cell_type": "markdown",
   "id": "a1ef05f4",
   "metadata": {},
   "source": [
    "# RandomForestClassifier"
   ]
  },
  {
   "cell_type": "code",
   "execution_count": 84,
   "id": "6f9052ce",
   "metadata": {},
   "outputs": [
    {
     "name": "stdout",
     "output_type": "stream",
     "text": [
      "                             precision    recall  f1-score   support\n",
      "\n",
      "extreme severe side effects       0.52      0.70      0.60        47\n",
      "          mild side effects       0.56      0.54      0.55       102\n",
      "      moderate side effects       0.46      0.52      0.49        71\n",
      "            no side effects       0.74      0.66      0.70       118\n",
      "        severe side effects       0.19      0.12      0.15        25\n",
      "\n",
      "                   accuracy                           0.57       363\n",
      "                  macro avg       0.49      0.51      0.50       363\n",
      "               weighted avg       0.57      0.57      0.56       363\n",
      "\n",
      "[[33  2  9  0  3]\n",
      " [ 7 55 16 21  3]\n",
      " [11 16 37  4  3]\n",
      " [ 4 25  7 78  4]\n",
      " [ 8  0 11  3  3]]\n",
      "accuracy is 0.5674931129476584\n"
     ]
    }
   ],
   "source": [
    "from sklearn.ensemble import RandomForestClassifier\n",
    "rf=RandomForestClassifier()\n",
    "rf.fit(x_train,y_train)\n",
    "y_pred=rf.predict(x_test)\n",
    "\n",
    "# Summary of the predictions made by the classifier\n",
    "print(classification_report(y_test, y_pred))\n",
    "print(confusion_matrix(y_test, y_pred))\n",
    "\n",
    "# Accuracy score\n",
    "\n",
    "print('accuracy is',accuracy_score(y_pred,y_test))"
   ]
  },
  {
   "cell_type": "code",
   "execution_count": 85,
   "id": "35ed8807",
   "metadata": {},
   "outputs": [
    {
     "name": "stdout",
     "output_type": "stream",
     "text": [
      "accuracy is 0.5757575757575758\n",
      "confusion matrix is [[31  4 11  0  1]\n",
      " [ 7 54 15 23  3]\n",
      " [ 9 17 37  4  4]\n",
      " [ 4 23  8 82  1]\n",
      " [ 9  0 10  1  5]]\n"
     ]
    }
   ],
   "source": [
    "# Fine tuning of parametres\n",
    "rf_ft=RandomForestClassifier(max_depth=100,n_estimators=100)\n",
    "rf_ft.fit(x_train,y_train)\n",
    "y_rf_ft=rf_ft.predict(x_test)\n",
    "print(\"accuracy is\",accuracy_score(y_test,y_rf_ft))\n",
    "print(\"confusion matrix is\",confusion_matrix(y_test,y_rf_ft))"
   ]
  },
  {
   "cell_type": "markdown",
   "id": "1c16663e",
   "metadata": {},
   "source": [
    "only a bit change in the accuracy"
   ]
  },
  {
   "cell_type": "markdown",
   "id": "09c880ef",
   "metadata": {},
   "source": [
    "# DecisionTreeClassifier"
   ]
  },
  {
   "cell_type": "code",
   "execution_count": 86,
   "id": "c368d5f6",
   "metadata": {},
   "outputs": [
    {
     "name": "stdout",
     "output_type": "stream",
     "text": [
      "                             precision    recall  f1-score   support\n",
      "\n",
      "extreme severe side effects       0.53      0.57      0.55        47\n",
      "          mild side effects       0.48      0.55      0.51       102\n",
      "      moderate side effects       0.42      0.42      0.42        71\n",
      "            no side effects       0.68      0.58      0.63       118\n",
      "        severe side effects       0.09      0.08      0.09        25\n",
      "\n",
      "                   accuracy                           0.51       363\n",
      "                  macro avg       0.44      0.44      0.44       363\n",
      "               weighted avg       0.51      0.51      0.51       363\n",
      "\n",
      "[[27  7  7  0  6]\n",
      " [ 4 56 15 23  4]\n",
      " [ 9 20 30  6  6]\n",
      " [ 4 32  9 69  4]\n",
      " [ 7  2 11  3  2]]\n",
      "Accuracy is  0.5068870523415978\n"
     ]
    }
   ],
   "source": [
    "from sklearn.tree import DecisionTreeClassifier\n",
    "dt=DecisionTreeClassifier()\n",
    "dt.fit(x_train,y_train)\n",
    "y_pred=dt.predict(x_test)\n",
    "# Summary of the predictions made by the classifier\n",
    "print(classification_report(y_test, y_pred))\n",
    "print(confusion_matrix(y_test, y_pred))\n",
    "print('Accuracy is ',accuracy_score(y_pred,y_test))"
   ]
  },
  {
   "cell_type": "markdown",
   "id": "b3515dab",
   "metadata": {},
   "source": [
    "# SVC"
   ]
  },
  {
   "cell_type": "code",
   "execution_count": 87,
   "id": "514f795d",
   "metadata": {},
   "outputs": [
    {
     "name": "stdout",
     "output_type": "stream",
     "text": [
      "                             precision    recall  f1-score   support\n",
      "\n",
      "extreme severe side effects       0.55      0.98      0.70        47\n",
      "          mild side effects       0.67      0.63      0.65       102\n",
      "      moderate side effects       0.54      0.58      0.56        71\n",
      "            no side effects       0.81      0.74      0.77       118\n",
      "        severe side effects       0.00      0.00      0.00        25\n",
      "\n",
      "                   accuracy                           0.66       363\n",
      "                  macro avg       0.51      0.58      0.54       363\n",
      "               weighted avg       0.63      0.66      0.63       363\n",
      "\n",
      "[[46  0  1  0  0]\n",
      " [ 8 64 14 16  0]\n",
      " [13 13 41  4  0]\n",
      " [ 7 18  6 87  0]\n",
      " [10  0 14  1  0]]\n",
      "accuracy is 0.6556473829201102\n"
     ]
    }
   ],
   "source": [
    "from sklearn.svm import SVC\n",
    "svc=SVC(kernel='rbf',probability=True)\n",
    "svc_classifier=svc.fit(x_train,y_train)\n",
    "\n",
    "# Summary of the predictions made by the classifier\n",
    "\n",
    "y_pred=svc.predict(x_test)\n",
    "print(classification_report(y_test, y_pred))\n",
    "print(confusion_matrix(y_test, y_pred))\n",
    "\n",
    "# Accuracy score\n",
    "\n",
    "print('accuracy is',accuracy_score(y_pred,y_test))"
   ]
  },
  {
   "cell_type": "markdown",
   "id": "80bbda8d",
   "metadata": {},
   "source": [
    "# Ensemble Learning"
   ]
  },
  {
   "cell_type": "code",
   "execution_count": 88,
   "id": "73a4e10e",
   "metadata": {},
   "outputs": [],
   "source": [
    "from sklearn.ensemble import VotingClassifier\n",
    "from sklearn.ensemble import RandomForestClassifier\n",
    "from sklearn.linear_model import LogisticRegression\n",
    "from sklearn.neighbors import KNeighborsClassifier\n",
    "from sklearn.naive_bayes import GaussianNB\n",
    "log_clf = LogisticRegression(solver=\"liblinear\", random_state=42)\n",
    "rnd_clf = RandomForestClassifier(n_estimators=10, random_state=42)\n",
    "knn_clf = KNeighborsClassifier()\n",
    "gb_clf=GradientBoostingClassifier()\n",
    "gnb_clf=GaussianNB()\n",
    "dt_clf=DecisionTreeClassifier()\n",
    "svc_clf=SVC()\n",
    "voting = VotingClassifier(\n",
    "    estimators=[('lr', log_clf), ('rf', rnd_clf), ('knn', knn_clf),('gb',gb_clf), ('gnb',gnb_clf),('dt',dt_clf),('svc',svc_clf)],\n",
    "    voting='hard')"
   ]
  },
  {
   "cell_type": "code",
   "execution_count": 89,
   "id": "b4f35d9e",
   "metadata": {},
   "outputs": [],
   "source": [
    "voting_clf = voting.fit(x_train, y_train)"
   ]
  },
  {
   "cell_type": "code",
   "execution_count": 90,
   "id": "02c81ce7",
   "metadata": {},
   "outputs": [
    {
     "name": "stdout",
     "output_type": "stream",
     "text": [
      "LogisticRegression 0.6115702479338843\n",
      "RandomForestClassifier 0.5482093663911846\n",
      "KNeighborsClassifier 0.5950413223140496\n",
      "GradientBoostingClassifier 0.6336088154269972\n",
      "GaussianNB 0.6033057851239669\n",
      "DecisionTreeClassifier 0.509641873278237\n",
      "SVC 0.6556473829201102\n",
      "VotingClassifier 0.6556473829201102\n"
     ]
    }
   ],
   "source": [
    "from sklearn.metrics import accuracy_score\n",
    "\n",
    "for clf in (log_clf, rnd_clf, knn_clf, gb_clf,gnb_clf,dt_clf,svc_clf,voting_clf):\n",
    "    clf.fit(x_train, y_train)\n",
    "    y_pred = clf.predict(x_test)\n",
    "    print(clf.__class__.__name__, accuracy_score(y_test, y_pred))"
   ]
  },
  {
   "cell_type": "code",
   "execution_count": 91,
   "id": "b0064219",
   "metadata": {},
   "outputs": [
    {
     "name": "stdout",
     "output_type": "stream",
     "text": [
      "  Name     Score\n",
      "0  KNN  0.595041\n",
      "1   LR  0.639118\n",
      "2   DT  0.498623\n",
      "3   RF  0.564738\n",
      "4   GB  0.633609\n",
      "5  GNB  0.603306\n",
      "6  SVC  0.655647\n",
      "7   EL  0.652893\n"
     ]
    }
   ],
   "source": [
    "models = []\n",
    "from sklearn.neighbors import KNeighborsClassifier\n",
    "from sklearn.linear_model import LogisticRegression\n",
    "from sklearn.tree import DecisionTreeClassifier\n",
    "from sklearn.svm import SVC\n",
    "from sklearn.naive_bayes import GaussianNB\n",
    "from sklearn.ensemble import RandomForestClassifier\n",
    "from sklearn.ensemble import VotingClassifier\n",
    "models.append(('KNN', KNeighborsClassifier()))\n",
    "models.append(('LR', LogisticRegression()))\n",
    "models.append(('DT', DecisionTreeClassifier()))\n",
    "models.append(('RF', RandomForestClassifier()))\n",
    "models.append(('GB', GradientBoostingClassifier()))\n",
    "models.append(('GNB', GaussianNB()))\n",
    "models.append(('SVC', SVC()))\n",
    "\n",
    "models.append(('EL', VotingClassifier(\n",
    "    estimators=[('lr', log_clf), ('rf', rnd_clf), ('knn', knn_clf),('gb',gb_clf), ('gnb',gnb_clf),('dt',dt_clf),('svc',svc_clf)],\n",
    "    voting='hard')))\n",
    "\n",
    "\n",
    "names = []\n",
    "scores = []\n",
    "for name, model in models:\n",
    "    model.fit(x_train, y_train)\n",
    "    y_pred = model.predict(x_test)\n",
    "    scores.append(accuracy_score(y_test, y_pred))\n",
    "    names.append(name)\n",
    "tr_split = pd.DataFrame({'Name': names, 'Score': scores})\n",
    "print(tr_split)"
   ]
  },
  {
   "cell_type": "code",
   "execution_count": 92,
   "id": "0137d98b",
   "metadata": {},
   "outputs": [
    {
     "data": {
      "image/png": "[encoded data removed]",
      "text/plain": [
       "<Figure size 864x432 with 1 Axes>"
      ]
     },
     "metadata": {},
     "output_type": "display_data"
    }
   ],
   "source": [
    "import seaborn as sns\n",
    "axis = sns.barplot(x = 'Name', y = 'Score', data =tr_split )\n",
    "axis.set(xlabel='Classifier', ylabel='Accuracy')\n",
    "for p in axis.patches:\n",
    "    height = p.get_height()\n",
    "    axis.text(p.get_x() + p.get_width()/2, height + 0.005, '{:1.4f}'.format(height), ha=\"center\") \n",
    "plt.title('Graph showing the accuracy of different models')    \n",
    "plt.show()"
   ]
  },
  {
   "cell_type": "markdown",
   "id": "4616aa4c",
   "metadata": {},
   "source": [
    "Inference: Comparing different models, SVC shows highest accuracy and seem to be the best of all models"
   ]
  },
  {
   "cell_type": "markdown",
   "id": "0eff5a37",
   "metadata": {},
   "source": [
    "# Prediction using SVC"
   ]
  },
  {
   "cell_type": "code",
   "execution_count": 93,
   "id": "02b3371f",
   "metadata": {},
   "outputs": [
    {
     "name": "stdout",
     "output_type": "stream",
     "text": [
      "Side effect:\n",
      "['extreme severe side effects' 'no side effects' 'moderate side effects'\n",
      " 'no side effects' 'mild side effects' 'no side effects' 'no side effects'\n",
      " 'mild side effects' 'mild side effects' 'mild side effects'\n",
      " 'severe side effects' 'no side effects' 'severe side effects'\n",
      " 'mild side effects' 'extreme severe side effects' 'mild side effects'\n",
      " 'moderate side effects' 'no side effects' 'mild side effects'\n",
      " 'moderate side effects' 'mild side effects' 'mild side effects'\n",
      " 'mild side effects' 'severe side effects' 'mild side effects'\n",
      " 'moderate side effects' 'moderate side effects' 'mild side effects'\n",
      " 'no side effects' 'extreme severe side effects' 'no side effects'\n",
      " 'extreme severe side effects' 'no side effects' 'severe side effects'\n",
      " 'moderate side effects' 'severe side effects' 'no side effects'\n",
      " 'extreme severe side effects' 'no side effects' 'moderate side effects'\n",
      " 'moderate side effects' 'extreme severe side effects'\n",
      " 'moderate side effects' 'no side effects' 'no side effects'\n",
      " 'severe side effects' 'moderate side effects' 'mild side effects'\n",
      " 'mild side effects' 'moderate side effects' 'moderate side effects'\n",
      " 'mild side effects' 'severe side effects' 'mild side effects'\n",
      " 'moderate side effects' 'moderate side effects' 'no side effects'\n",
      " 'moderate side effects' 'no side effects' 'no side effects'\n",
      " 'no side effects' 'no side effects' 'mild side effects'\n",
      " 'extreme severe side effects' 'mild side effects' 'moderate side effects'\n",
      " 'extreme severe side effects' 'moderate side effects' 'no side effects'\n",
      " 'mild side effects' 'mild side effects' 'mild side effects'\n",
      " 'mild side effects' 'extreme severe side effects' 'no side effects'\n",
      " 'no side effects' 'mild side effects' 'mild side effects'\n",
      " 'no side effects' 'extreme severe side effects' 'mild side effects'\n",
      " 'extreme severe side effects' 'moderate side effects'\n",
      " 'severe side effects' 'mild side effects' 'severe side effects'\n",
      " 'no side effects' 'no side effects' 'mild side effects' 'no side effects'\n",
      " 'extreme severe side effects' 'severe side effects'\n",
      " 'extreme severe side effects' 'no side effects'\n",
      " 'extreme severe side effects' 'mild side effects' 'mild side effects'\n",
      " 'no side effects' 'no side effects' 'no side effects' 'mild side effects'\n",
      " 'moderate side effects' 'mild side effects' 'no side effects'\n",
      " 'extreme severe side effects' 'extreme severe side effects'\n",
      " 'moderate side effects' 'mild side effects' 'mild side effects'\n",
      " 'extreme severe side effects' 'no side effects' 'mild side effects'\n",
      " 'mild side effects' 'no side effects' 'mild side effects'\n",
      " 'mild side effects' 'moderate side effects' 'mild side effects'\n",
      " 'no side effects' 'no side effects' 'no side effects' 'mild side effects'\n",
      " 'mild side effects' 'extreme severe side effects' 'no side effects'\n",
      " 'mild side effects' 'no side effects' 'extreme severe side effects'\n",
      " 'no side effects' 'mild side effects' 'no side effects' 'no side effects'\n",
      " 'mild side effects' 'extreme severe side effects' 'moderate side effects'\n",
      " 'extreme severe side effects' 'mild side effects' 'no side effects'\n",
      " 'extreme severe side effects' 'moderate side effects' 'no side effects'\n",
      " 'mild side effects' 'moderate side effects' 'mild side effects'\n",
      " 'mild side effects' 'no side effects' 'moderate side effects'\n",
      " 'moderate side effects' 'mild side effects' 'mild side effects'\n",
      " 'no side effects' 'moderate side effects' 'no side effects'\n",
      " 'moderate side effects' 'mild side effects' 'extreme severe side effects'\n",
      " 'extreme severe side effects' 'mild side effects' 'no side effects'\n",
      " 'no side effects' 'severe side effects' 'no side effects'\n",
      " 'mild side effects' 'no side effects' 'no side effects' 'no side effects'\n",
      " 'mild side effects' 'mild side effects' 'mild side effects'\n",
      " 'no side effects' 'moderate side effects' 'no side effects'\n",
      " 'moderate side effects' 'mild side effects' 'no side effects'\n",
      " 'severe side effects' 'no side effects' 'severe side effects'\n",
      " 'severe side effects' 'no side effects' 'no side effects'\n",
      " 'no side effects' 'no side effects' 'mild side effects'\n",
      " 'extreme severe side effects' 'moderate side effects'\n",
      " 'extreme severe side effects' 'no side effects' 'mild side effects'\n",
      " 'mild side effects' 'no side effects' 'no side effects'\n",
      " 'mild side effects' 'extreme severe side effects' 'no side effects'\n",
      " 'no side effects' 'no side effects' 'mild side effects' 'no side effects'\n",
      " 'extreme severe side effects' 'no side effects' 'no side effects'\n",
      " 'no side effects' 'extreme severe side effects' 'mild side effects'\n",
      " 'moderate side effects' 'mild side effects' 'severe side effects'\n",
      " 'moderate side effects' 'mild side effects' 'moderate side effects'\n",
      " 'moderate side effects' 'mild side effects' 'mild side effects'\n",
      " 'extreme severe side effects' 'no side effects' 'no side effects'\n",
      " 'no side effects' 'moderate side effects' 'mild side effects'\n",
      " 'mild side effects' 'mild side effects' 'no side effects'\n",
      " 'no side effects' 'no side effects' 'mild side effects'\n",
      " 'moderate side effects' 'mild side effects' 'no side effects'\n",
      " 'moderate side effects' 'no side effects' 'moderate side effects'\n",
      " 'moderate side effects' 'no side effects' 'mild side effects'\n",
      " 'no side effects' 'moderate side effects' 'moderate side effects'\n",
      " 'mild side effects' 'mild side effects' 'mild side effects'\n",
      " 'no side effects' 'mild side effects' 'extreme severe side effects'\n",
      " 'no side effects' 'mild side effects' 'severe side effects'\n",
      " 'no side effects' 'mild side effects' 'no side effects'\n",
      " 'mild side effects' 'extreme severe side effects' 'moderate side effects'\n",
      " 'no side effects' 'moderate side effects' 'moderate side effects'\n",
      " 'moderate side effects' 'moderate side effects' 'no side effects'\n",
      " 'no side effects' 'no side effects' 'moderate side effects'\n",
      " 'severe side effects' 'extreme severe side effects'\n",
      " 'moderate side effects' 'no side effects' 'moderate side effects'\n",
      " 'no side effects' 'no side effects' 'no side effects'\n",
      " 'moderate side effects' 'moderate side effects'\n",
      " 'extreme severe side effects' 'moderate side effects'\n",
      " 'extreme severe side effects' 'mild side effects' 'no side effects'\n",
      " 'no side effects' 'severe side effects' 'mild side effects'\n",
      " 'moderate side effects' 'mild side effects' 'extreme severe side effects'\n",
      " 'moderate side effects' 'moderate side effects' 'no side effects'\n",
      " 'mild side effects' 'moderate side effects' 'severe side effects'\n",
      " 'moderate side effects' 'mild side effects' 'no side effects'\n",
      " 'extreme severe side effects' 'severe side effects'\n",
      " 'extreme severe side effects' 'no side effects' 'no side effects'\n",
      " 'mild side effects' 'mild side effects' 'no side effects'\n",
      " 'no side effects' 'severe side effects' 'mild side effects'\n",
      " 'moderate side effects' 'mild side effects' 'no side effects'\n",
      " 'mild side effects' 'no side effects' 'no side effects'\n",
      " 'extreme severe side effects' 'mild side effects' 'moderate side effects'\n",
      " 'no side effects' 'extreme severe side effects' 'no side effects'\n",
      " 'severe side effects' 'no side effects' 'no side effects'\n",
      " 'moderate side effects' 'mild side effects' 'moderate side effects'\n",
      " 'moderate side effects' 'mild side effects' 'mild side effects'\n",
      " 'extreme severe side effects' 'mild side effects'\n",
      " 'extreme severe side effects' 'no side effects' 'mild side effects'\n",
      " 'no side effects' 'extreme severe side effects' 'no side effects'\n",
      " 'mild side effects' 'moderate side effects' 'no side effects'\n",
      " 'moderate side effects' 'mild side effects' 'extreme severe side effects'\n",
      " 'mild side effects' 'severe side effects' 'no side effects'\n",
      " 'severe side effects' 'severe side effects' 'no side effects'\n",
      " 'extreme severe side effects' 'extreme severe side effects'\n",
      " 'no side effects' 'no side effects' 'extreme severe side effects'\n",
      " 'moderate side effects' 'mild side effects' 'no side effects'\n",
      " 'moderate side effects' 'no side effects' 'mild side effects'\n",
      " 'no side effects' 'moderate side effects' 'moderate side effects'\n",
      " 'moderate side effects' 'no side effects' 'mild side effects'\n",
      " 'mild side effects' 'moderate side effects']\n"
     ]
    }
   ],
   "source": [
    "y_pred=svc.predict(x_test)\n",
    "print(\"Side effect:\")\n",
    "print(y_test.values)"
   ]
  },
  {
   "cell_type": "code",
   "execution_count": null,
   "id": "8bdfdadc",
   "metadata": {},
   "outputs": [],
   "source": []
  }
 ],
 "metadata": {
  "kernelspec": {
   "display_name": "Python 3",
   "language": "python",
   "name": "python3"
  },
  "language_info": {
   "codemirror_mode": {
    "name": "ipython",
    "version": 3
   },
   "file_extension": ".py",
   "mimetype": "text/x-python",
   "name": "python",
   "nbconvert_exporter": "python",
   "pygments_lexer": "ipython3",
   "version": "3.8.8"
  }
 },
 "nbformat": 4,
 "nbformat_minor": 5
}
